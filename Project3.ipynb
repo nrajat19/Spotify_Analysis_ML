{
 "cells": [
  {
   "cell_type": "markdown",
   "metadata": {
    "id": "fPWislEvisp9"
   },
   "source": [
    "Cleaning the data"
   ]
  },
  {
   "cell_type": "code",
   "execution_count": 1,
   "metadata": {
    "id": "6Eeg9JEwiwT7"
   },
   "outputs": [],
   "source": [
    "#Rajat\n",
    "import pandas as pd\n",
    "import numpy as np"
   ]
  },
  {
   "cell_type": "code",
   "execution_count": 2,
   "metadata": {
    "colab": {
     "base_uri": "https://localhost:8080/",
     "height": 328
    },
    "id": "0SVW_e6jUAxK",
    "outputId": "272517c9-1245-435e-fb53-2b83c1cfe896"
   },
   "outputs": [],
   "source": [
    "#Rajat\n",
    "dirtySpotify = pd.read_csv(\"spotifydata1921.csv\")"
   ]
  },
  {
   "cell_type": "code",
   "execution_count": 3,
   "metadata": {
    "id": "Pb38ntplUDd0"
   },
   "outputs": [
    {
     "data": {
      "text/plain": [
       "acousticness        float64\n",
       "artists              object\n",
       "danceability        float64\n",
       "duration_ms           int64\n",
       "energy              float64\n",
       "explicit              int64\n",
       "id                   object\n",
       "instrumentalness    float64\n",
       "key                   int64\n",
       "liveness            float64\n",
       "loudness            float64\n",
       "mode                  int64\n",
       "name                 object\n",
       "popularity            int64\n",
       "release_date         object\n",
       "speechiness         float64\n",
       "tempo               float64\n",
       "valence             float64\n",
       "year                  int64\n",
       "dtype: object"
      ]
     },
     "execution_count": 3,
     "metadata": {},
     "output_type": "execute_result"
    }
   ],
   "source": [
    "#Rajat\n",
    "cleanSpotify = dirtySpotify.copy()\n",
    "cleanSpotify.dtypes"
   ]
  },
  {
   "cell_type": "code",
   "execution_count": 4,
   "metadata": {
    "id": "Jil99kBSUF7r"
   },
   "outputs": [
    {
     "data": {
      "text/plain": [
       "acousticness        False\n",
       "artists             False\n",
       "danceability        False\n",
       "duration_ms         False\n",
       "energy              False\n",
       "explicit            False\n",
       "id                  False\n",
       "instrumentalness    False\n",
       "key                 False\n",
       "liveness            False\n",
       "loudness            False\n",
       "mode                False\n",
       "name                False\n",
       "popularity          False\n",
       "release_date        False\n",
       "speechiness         False\n",
       "tempo               False\n",
       "valence             False\n",
       "year                False\n",
       "dtype: bool"
      ]
     },
     "execution_count": 4,
     "metadata": {},
     "output_type": "execute_result"
    }
   ],
   "source": [
    "#Rajat\n",
    "cleanSpotify.isnull().any()"
   ]
  },
  {
   "cell_type": "code",
   "execution_count": 28,
   "metadata": {
    "id": "YSwL-sTZUIFt"
   },
   "outputs": [
    {
     "data": {
      "text/html": [
       "<div>\n",
       "<style scoped>\n",
       "    .dataframe tbody tr th:only-of-type {\n",
       "        vertical-align: middle;\n",
       "    }\n",
       "\n",
       "    .dataframe tbody tr th {\n",
       "        vertical-align: top;\n",
       "    }\n",
       "\n",
       "    .dataframe thead th {\n",
       "        text-align: right;\n",
       "    }\n",
       "</style>\n",
       "<table border=\"1\" class=\"dataframe\">\n",
       "  <thead>\n",
       "    <tr style=\"text-align: right;\">\n",
       "      <th></th>\n",
       "      <th>acousticness</th>\n",
       "      <th>danceability</th>\n",
       "      <th>duration_ms</th>\n",
       "      <th>energy</th>\n",
       "      <th>explicit</th>\n",
       "      <th>instrumentalness</th>\n",
       "      <th>key</th>\n",
       "      <th>liveness</th>\n",
       "      <th>loudness</th>\n",
       "      <th>mode</th>\n",
       "      <th>popularity</th>\n",
       "      <th>speechiness</th>\n",
       "      <th>tempo</th>\n",
       "      <th>valence</th>\n",
       "    </tr>\n",
       "    <tr>\n",
       "      <th>year</th>\n",
       "      <th></th>\n",
       "      <th></th>\n",
       "      <th></th>\n",
       "      <th></th>\n",
       "      <th></th>\n",
       "      <th></th>\n",
       "      <th></th>\n",
       "      <th></th>\n",
       "      <th></th>\n",
       "      <th></th>\n",
       "      <th></th>\n",
       "      <th></th>\n",
       "      <th></th>\n",
       "      <th></th>\n",
       "    </tr>\n",
       "  </thead>\n",
       "  <tbody>\n",
       "    <tr>\n",
       "      <th>1921</th>\n",
       "      <td>0.895823</td>\n",
       "      <td>0.425661</td>\n",
       "      <td>229911.914062</td>\n",
       "      <td>0.236784</td>\n",
       "      <td>0.054688</td>\n",
       "      <td>0.322330</td>\n",
       "      <td>5.031250</td>\n",
       "      <td>0.215814</td>\n",
       "      <td>-17.095437</td>\n",
       "      <td>0.656250</td>\n",
       "      <td>0.351562</td>\n",
       "      <td>0.077258</td>\n",
       "      <td>100.397758</td>\n",
       "      <td>0.425495</td>\n",
       "    </tr>\n",
       "    <tr>\n",
       "      <th>1922</th>\n",
       "      <td>0.939236</td>\n",
       "      <td>0.480000</td>\n",
       "      <td>167904.541667</td>\n",
       "      <td>0.237026</td>\n",
       "      <td>0.000000</td>\n",
       "      <td>0.440470</td>\n",
       "      <td>5.236111</td>\n",
       "      <td>0.238647</td>\n",
       "      <td>-19.179958</td>\n",
       "      <td>0.625000</td>\n",
       "      <td>0.138889</td>\n",
       "      <td>0.115419</td>\n",
       "      <td>101.376139</td>\n",
       "      <td>0.534056</td>\n",
       "    </tr>\n",
       "    <tr>\n",
       "      <th>1923</th>\n",
       "      <td>0.976329</td>\n",
       "      <td>0.568462</td>\n",
       "      <td>178356.301775</td>\n",
       "      <td>0.246936</td>\n",
       "      <td>0.000000</td>\n",
       "      <td>0.401932</td>\n",
       "      <td>4.846154</td>\n",
       "      <td>0.236656</td>\n",
       "      <td>-14.373882</td>\n",
       "      <td>0.775148</td>\n",
       "      <td>5.727811</td>\n",
       "      <td>0.098619</td>\n",
       "      <td>112.456598</td>\n",
       "      <td>0.624788</td>\n",
       "    </tr>\n",
       "    <tr>\n",
       "      <th>1924</th>\n",
       "      <td>0.935575</td>\n",
       "      <td>0.548654</td>\n",
       "      <td>188461.649789</td>\n",
       "      <td>0.347033</td>\n",
       "      <td>0.000000</td>\n",
       "      <td>0.583955</td>\n",
       "      <td>5.637131</td>\n",
       "      <td>0.237875</td>\n",
       "      <td>-14.202304</td>\n",
       "      <td>0.751055</td>\n",
       "      <td>0.603376</td>\n",
       "      <td>0.090210</td>\n",
       "      <td>120.653359</td>\n",
       "      <td>0.668574</td>\n",
       "    </tr>\n",
       "    <tr>\n",
       "      <th>1925</th>\n",
       "      <td>0.965422</td>\n",
       "      <td>0.571890</td>\n",
       "      <td>184130.699620</td>\n",
       "      <td>0.264373</td>\n",
       "      <td>0.000000</td>\n",
       "      <td>0.408893</td>\n",
       "      <td>5.171103</td>\n",
       "      <td>0.243094</td>\n",
       "      <td>-14.516707</td>\n",
       "      <td>0.718631</td>\n",
       "      <td>2.707224</td>\n",
       "      <td>0.115457</td>\n",
       "      <td>115.671715</td>\n",
       "      <td>0.616430</td>\n",
       "    </tr>\n",
       "    <tr>\n",
       "      <th>...</th>\n",
       "      <td>...</td>\n",
       "      <td>...</td>\n",
       "      <td>...</td>\n",
       "      <td>...</td>\n",
       "      <td>...</td>\n",
       "      <td>...</td>\n",
       "      <td>...</td>\n",
       "      <td>...</td>\n",
       "      <td>...</td>\n",
       "      <td>...</td>\n",
       "      <td>...</td>\n",
       "      <td>...</td>\n",
       "      <td>...</td>\n",
       "      <td>...</td>\n",
       "    </tr>\n",
       "    <tr>\n",
       "      <th>2016</th>\n",
       "      <td>0.280290</td>\n",
       "      <td>0.599976</td>\n",
       "      <td>219400.763840</td>\n",
       "      <td>0.592877</td>\n",
       "      <td>0.333164</td>\n",
       "      <td>0.074646</td>\n",
       "      <td>5.225495</td>\n",
       "      <td>0.180198</td>\n",
       "      <td>-7.949913</td>\n",
       "      <td>0.638903</td>\n",
       "      <td>61.371254</td>\n",
       "      <td>0.107298</td>\n",
       "      <td>119.070344</td>\n",
       "      <td>0.430769</td>\n",
       "    </tr>\n",
       "    <tr>\n",
       "      <th>2017</th>\n",
       "      <td>0.289916</td>\n",
       "      <td>0.612286</td>\n",
       "      <td>209343.613000</td>\n",
       "      <td>0.586739</td>\n",
       "      <td>0.349000</td>\n",
       "      <td>0.098209</td>\n",
       "      <td>5.073000</td>\n",
       "      <td>0.194218</td>\n",
       "      <td>-8.422697</td>\n",
       "      <td>0.624500</td>\n",
       "      <td>64.861500</td>\n",
       "      <td>0.111752</td>\n",
       "      <td>116.840277</td>\n",
       "      <td>0.414465</td>\n",
       "    </tr>\n",
       "    <tr>\n",
       "      <th>2018</th>\n",
       "      <td>0.271941</td>\n",
       "      <td>0.664930</td>\n",
       "      <td>200919.119000</td>\n",
       "      <td>0.590591</td>\n",
       "      <td>0.468000</td>\n",
       "      <td>0.035948</td>\n",
       "      <td>5.347500</td>\n",
       "      <td>0.171781</td>\n",
       "      <td>-7.253666</td>\n",
       "      <td>0.613000</td>\n",
       "      <td>67.276000</td>\n",
       "      <td>0.128140</td>\n",
       "      <td>122.004325</td>\n",
       "      <td>0.447141</td>\n",
       "    </tr>\n",
       "    <tr>\n",
       "      <th>2019</th>\n",
       "      <td>0.289298</td>\n",
       "      <td>0.644215</td>\n",
       "      <td>197733.133000</td>\n",
       "      <td>0.578796</td>\n",
       "      <td>0.424000</td>\n",
       "      <td>0.076518</td>\n",
       "      <td>5.146500</td>\n",
       "      <td>0.167161</td>\n",
       "      <td>-8.041738</td>\n",
       "      <td>0.621500</td>\n",
       "      <td>69.655500</td>\n",
       "      <td>0.124799</td>\n",
       "      <td>118.868163</td>\n",
       "      <td>0.465856</td>\n",
       "    </tr>\n",
       "    <tr>\n",
       "      <th>2020</th>\n",
       "      <td>0.247374</td>\n",
       "      <td>0.673077</td>\n",
       "      <td>197114.662301</td>\n",
       "      <td>0.611914</td>\n",
       "      <td>0.492597</td>\n",
       "      <td>0.039052</td>\n",
       "      <td>5.243736</td>\n",
       "      <td>0.177048</td>\n",
       "      <td>-7.204024</td>\n",
       "      <td>0.606492</td>\n",
       "      <td>63.111048</td>\n",
       "      <td>0.143505</td>\n",
       "      <td>121.228704</td>\n",
       "      <td>0.482755</td>\n",
       "    </tr>\n",
       "  </tbody>\n",
       "</table>\n",
       "<p>100 rows × 14 columns</p>\n",
       "</div>"
      ],
      "text/plain": [
       "      acousticness  danceability    duration_ms    energy  explicit  \\\n",
       "year                                                                  \n",
       "1921      0.895823      0.425661  229911.914062  0.236784  0.054688   \n",
       "1922      0.939236      0.480000  167904.541667  0.237026  0.000000   \n",
       "1923      0.976329      0.568462  178356.301775  0.246936  0.000000   \n",
       "1924      0.935575      0.548654  188461.649789  0.347033  0.000000   \n",
       "1925      0.965422      0.571890  184130.699620  0.264373  0.000000   \n",
       "...            ...           ...            ...       ...       ...   \n",
       "2016      0.280290      0.599976  219400.763840  0.592877  0.333164   \n",
       "2017      0.289916      0.612286  209343.613000  0.586739  0.349000   \n",
       "2018      0.271941      0.664930  200919.119000  0.590591  0.468000   \n",
       "2019      0.289298      0.644215  197733.133000  0.578796  0.424000   \n",
       "2020      0.247374      0.673077  197114.662301  0.611914  0.492597   \n",
       "\n",
       "      instrumentalness       key  liveness   loudness      mode  popularity  \\\n",
       "year                                                                          \n",
       "1921          0.322330  5.031250  0.215814 -17.095437  0.656250    0.351562   \n",
       "1922          0.440470  5.236111  0.238647 -19.179958  0.625000    0.138889   \n",
       "1923          0.401932  4.846154  0.236656 -14.373882  0.775148    5.727811   \n",
       "1924          0.583955  5.637131  0.237875 -14.202304  0.751055    0.603376   \n",
       "1925          0.408893  5.171103  0.243094 -14.516707  0.718631    2.707224   \n",
       "...                ...       ...       ...        ...       ...         ...   \n",
       "2016          0.074646  5.225495  0.180198  -7.949913  0.638903   61.371254   \n",
       "2017          0.098209  5.073000  0.194218  -8.422697  0.624500   64.861500   \n",
       "2018          0.035948  5.347500  0.171781  -7.253666  0.613000   67.276000   \n",
       "2019          0.076518  5.146500  0.167161  -8.041738  0.621500   69.655500   \n",
       "2020          0.039052  5.243736  0.177048  -7.204024  0.606492   63.111048   \n",
       "\n",
       "      speechiness       tempo   valence  \n",
       "year                                     \n",
       "1921     0.077258  100.397758  0.425495  \n",
       "1922     0.115419  101.376139  0.534056  \n",
       "1923     0.098619  112.456598  0.624788  \n",
       "1924     0.090210  120.653359  0.668574  \n",
       "1925     0.115457  115.671715  0.616430  \n",
       "...           ...         ...       ...  \n",
       "2016     0.107298  119.070344  0.430769  \n",
       "2017     0.111752  116.840277  0.414465  \n",
       "2018     0.128140  122.004325  0.447141  \n",
       "2019     0.124799  118.868163  0.465856  \n",
       "2020     0.143505  121.228704  0.482755  \n",
       "\n",
       "[100 rows x 14 columns]"
      ]
     },
     "execution_count": 28,
     "metadata": {},
     "output_type": "execute_result"
    }
   ],
   "source": [
    "#Rajat\n",
    "avgTable = cleanSpotify.copy()\n",
    "avgTable.groupby('year').mean()"
   ]
  },
  {
   "cell_type": "code",
   "execution_count": 6,
   "metadata": {
    "id": "csVCJFjXUK8X"
   },
   "outputs": [
    {
     "name": "stderr",
     "output_type": "stream",
     "text": [
      "C:\\Users\\rajat\\AppData\\Local\\Temp/ipykernel_31104/925316416.py:2: FutureWarning: Dropping of nuisance columns in DataFrame reductions (with 'numeric_only=None') is deprecated; in a future version this will raise TypeError.  Select only valid columns before calling the reduction.\n",
      "  spotify_median_vals = cleanSpotify.median()\n"
     ]
    },
    {
     "data": {
      "text/plain": [
       "acousticness             0.492000\n",
       "danceability             0.548000\n",
       "duration_ms         208600.000000\n",
       "energy                   0.481000\n",
       "explicit                 0.000000\n",
       "instrumentalness         0.000204\n",
       "key                      5.000000\n",
       "liveness                 0.135000\n",
       "loudness               -10.474000\n",
       "mode                     1.000000\n",
       "popularity              33.000000\n",
       "speechiness              0.045000\n",
       "tempo                  114.778000\n",
       "valence                  0.544000\n",
       "year                  1978.000000\n",
       "dtype: float64"
      ]
     },
     "execution_count": 6,
     "metadata": {},
     "output_type": "execute_result"
    }
   ],
   "source": [
    "#Rajat\n",
    "spotify_median_vals = cleanSpotify.median()\n",
    "spotify_median_vals"
   ]
  },
  {
   "cell_type": "code",
   "execution_count": 7,
   "metadata": {
    "id": "L-Ig4dg7UNrk"
   },
   "outputs": [
    {
     "data": {
      "text/html": [
       "<div>\n",
       "<style scoped>\n",
       "    .dataframe tbody tr th:only-of-type {\n",
       "        vertical-align: middle;\n",
       "    }\n",
       "\n",
       "    .dataframe tbody tr th {\n",
       "        vertical-align: top;\n",
       "    }\n",
       "\n",
       "    .dataframe thead th {\n",
       "        text-align: right;\n",
       "    }\n",
       "</style>\n",
       "<table border=\"1\" class=\"dataframe\">\n",
       "  <thead>\n",
       "    <tr style=\"text-align: right;\">\n",
       "      <th></th>\n",
       "      <th>acousticness</th>\n",
       "      <th>danceability</th>\n",
       "      <th>duration_ms</th>\n",
       "      <th>energy</th>\n",
       "      <th>explicit</th>\n",
       "      <th>instrumentalness</th>\n",
       "      <th>key</th>\n",
       "      <th>liveness</th>\n",
       "      <th>loudness</th>\n",
       "      <th>mode</th>\n",
       "      <th>popularity</th>\n",
       "      <th>speechiness</th>\n",
       "      <th>tempo</th>\n",
       "      <th>valence</th>\n",
       "      <th>year</th>\n",
       "    </tr>\n",
       "  </thead>\n",
       "  <tbody>\n",
       "    <tr>\n",
       "      <th>count</th>\n",
       "      <td>169909.000000</td>\n",
       "      <td>169909.000000</td>\n",
       "      <td>1.699090e+05</td>\n",
       "      <td>169909.000000</td>\n",
       "      <td>169909.000000</td>\n",
       "      <td>169909.000000</td>\n",
       "      <td>169909.000000</td>\n",
       "      <td>169909.000000</td>\n",
       "      <td>169909.000000</td>\n",
       "      <td>169909.000000</td>\n",
       "      <td>169909.000000</td>\n",
       "      <td>169909.000000</td>\n",
       "      <td>169909.000000</td>\n",
       "      <td>169909.000000</td>\n",
       "      <td>169909.000000</td>\n",
       "    </tr>\n",
       "    <tr>\n",
       "      <th>mean</th>\n",
       "      <td>0.493214</td>\n",
       "      <td>0.538150</td>\n",
       "      <td>2.314062e+05</td>\n",
       "      <td>0.488593</td>\n",
       "      <td>0.084863</td>\n",
       "      <td>0.161937</td>\n",
       "      <td>5.200519</td>\n",
       "      <td>0.206690</td>\n",
       "      <td>-11.370289</td>\n",
       "      <td>0.708556</td>\n",
       "      <td>31.556610</td>\n",
       "      <td>0.094058</td>\n",
       "      <td>116.948017</td>\n",
       "      <td>0.532095</td>\n",
       "      <td>1977.223231</td>\n",
       "    </tr>\n",
       "    <tr>\n",
       "      <th>std</th>\n",
       "      <td>0.376627</td>\n",
       "      <td>0.175346</td>\n",
       "      <td>1.213219e+05</td>\n",
       "      <td>0.267390</td>\n",
       "      <td>0.278679</td>\n",
       "      <td>0.309329</td>\n",
       "      <td>3.515257</td>\n",
       "      <td>0.176796</td>\n",
       "      <td>5.666765</td>\n",
       "      <td>0.454429</td>\n",
       "      <td>21.582614</td>\n",
       "      <td>0.149937</td>\n",
       "      <td>30.726937</td>\n",
       "      <td>0.262408</td>\n",
       "      <td>25.593168</td>\n",
       "    </tr>\n",
       "    <tr>\n",
       "      <th>min</th>\n",
       "      <td>0.000000</td>\n",
       "      <td>0.000000</td>\n",
       "      <td>5.108000e+03</td>\n",
       "      <td>0.000000</td>\n",
       "      <td>0.000000</td>\n",
       "      <td>0.000000</td>\n",
       "      <td>0.000000</td>\n",
       "      <td>0.000000</td>\n",
       "      <td>-60.000000</td>\n",
       "      <td>0.000000</td>\n",
       "      <td>0.000000</td>\n",
       "      <td>0.000000</td>\n",
       "      <td>0.000000</td>\n",
       "      <td>0.000000</td>\n",
       "      <td>1921.000000</td>\n",
       "    </tr>\n",
       "    <tr>\n",
       "      <th>25%</th>\n",
       "      <td>0.094500</td>\n",
       "      <td>0.417000</td>\n",
       "      <td>1.710400e+05</td>\n",
       "      <td>0.263000</td>\n",
       "      <td>0.000000</td>\n",
       "      <td>0.000000</td>\n",
       "      <td>2.000000</td>\n",
       "      <td>0.098400</td>\n",
       "      <td>-14.470000</td>\n",
       "      <td>0.000000</td>\n",
       "      <td>12.000000</td>\n",
       "      <td>0.034900</td>\n",
       "      <td>93.516000</td>\n",
       "      <td>0.322000</td>\n",
       "      <td>1957.000000</td>\n",
       "    </tr>\n",
       "    <tr>\n",
       "      <th>50%</th>\n",
       "      <td>0.492000</td>\n",
       "      <td>0.548000</td>\n",
       "      <td>2.086000e+05</td>\n",
       "      <td>0.481000</td>\n",
       "      <td>0.000000</td>\n",
       "      <td>0.000204</td>\n",
       "      <td>5.000000</td>\n",
       "      <td>0.135000</td>\n",
       "      <td>-10.474000</td>\n",
       "      <td>1.000000</td>\n",
       "      <td>33.000000</td>\n",
       "      <td>0.045000</td>\n",
       "      <td>114.778000</td>\n",
       "      <td>0.544000</td>\n",
       "      <td>1978.000000</td>\n",
       "    </tr>\n",
       "    <tr>\n",
       "      <th>75%</th>\n",
       "      <td>0.888000</td>\n",
       "      <td>0.667000</td>\n",
       "      <td>2.629600e+05</td>\n",
       "      <td>0.710000</td>\n",
       "      <td>0.000000</td>\n",
       "      <td>0.086800</td>\n",
       "      <td>8.000000</td>\n",
       "      <td>0.263000</td>\n",
       "      <td>-7.118000</td>\n",
       "      <td>1.000000</td>\n",
       "      <td>48.000000</td>\n",
       "      <td>0.075400</td>\n",
       "      <td>135.712000</td>\n",
       "      <td>0.749000</td>\n",
       "      <td>1999.000000</td>\n",
       "    </tr>\n",
       "    <tr>\n",
       "      <th>max</th>\n",
       "      <td>0.996000</td>\n",
       "      <td>0.988000</td>\n",
       "      <td>5.403500e+06</td>\n",
       "      <td>1.000000</td>\n",
       "      <td>1.000000</td>\n",
       "      <td>1.000000</td>\n",
       "      <td>11.000000</td>\n",
       "      <td>1.000000</td>\n",
       "      <td>3.855000</td>\n",
       "      <td>1.000000</td>\n",
       "      <td>100.000000</td>\n",
       "      <td>0.969000</td>\n",
       "      <td>244.091000</td>\n",
       "      <td>1.000000</td>\n",
       "      <td>2020.000000</td>\n",
       "    </tr>\n",
       "  </tbody>\n",
       "</table>\n",
       "</div>"
      ],
      "text/plain": [
       "        acousticness   danceability   duration_ms         energy  \\\n",
       "count  169909.000000  169909.000000  1.699090e+05  169909.000000   \n",
       "mean        0.493214       0.538150  2.314062e+05       0.488593   \n",
       "std         0.376627       0.175346  1.213219e+05       0.267390   \n",
       "min         0.000000       0.000000  5.108000e+03       0.000000   \n",
       "25%         0.094500       0.417000  1.710400e+05       0.263000   \n",
       "50%         0.492000       0.548000  2.086000e+05       0.481000   \n",
       "75%         0.888000       0.667000  2.629600e+05       0.710000   \n",
       "max         0.996000       0.988000  5.403500e+06       1.000000   \n",
       "\n",
       "            explicit  instrumentalness            key       liveness  \\\n",
       "count  169909.000000     169909.000000  169909.000000  169909.000000   \n",
       "mean        0.084863          0.161937       5.200519       0.206690   \n",
       "std         0.278679          0.309329       3.515257       0.176796   \n",
       "min         0.000000          0.000000       0.000000       0.000000   \n",
       "25%         0.000000          0.000000       2.000000       0.098400   \n",
       "50%         0.000000          0.000204       5.000000       0.135000   \n",
       "75%         0.000000          0.086800       8.000000       0.263000   \n",
       "max         1.000000          1.000000      11.000000       1.000000   \n",
       "\n",
       "            loudness           mode     popularity    speechiness  \\\n",
       "count  169909.000000  169909.000000  169909.000000  169909.000000   \n",
       "mean      -11.370289       0.708556      31.556610       0.094058   \n",
       "std         5.666765       0.454429      21.582614       0.149937   \n",
       "min       -60.000000       0.000000       0.000000       0.000000   \n",
       "25%       -14.470000       0.000000      12.000000       0.034900   \n",
       "50%       -10.474000       1.000000      33.000000       0.045000   \n",
       "75%        -7.118000       1.000000      48.000000       0.075400   \n",
       "max         3.855000       1.000000     100.000000       0.969000   \n",
       "\n",
       "               tempo        valence           year  \n",
       "count  169909.000000  169909.000000  169909.000000  \n",
       "mean      116.948017       0.532095    1977.223231  \n",
       "std        30.726937       0.262408      25.593168  \n",
       "min         0.000000       0.000000    1921.000000  \n",
       "25%        93.516000       0.322000    1957.000000  \n",
       "50%       114.778000       0.544000    1978.000000  \n",
       "75%       135.712000       0.749000    1999.000000  \n",
       "max       244.091000       1.000000    2020.000000  "
      ]
     },
     "execution_count": 7,
     "metadata": {},
     "output_type": "execute_result"
    }
   ],
   "source": [
    "#Rajat\n",
    "cleanSpotify.describe()"
   ]
  },
  {
   "cell_type": "markdown",
   "metadata": {
    "id": "rQH-jPFnVhSn"
   },
   "source": [
    "#Spotify 1921-2020 Song Properties (Rajat)\n",
    "This first dataset is able to provide insight regarding different song properties and how they are able to change over the different years. By cleaning the data initially we can groupby the years in order to answer our first research question regarding the changes in the characteristics. \n",
    "\n",
    "From there we are able to check if all of the values provided are associated with correct datatypes in the columns. After matching the proper datatypes to the correct columns we have prepared the data for any mathematical procedures and analysis. Before actually conducting any processes, we do also have to ascertain that there are no null values as well. \n",
    "\n",
    "The final step to clean and properly visualize the data is to generate mean values per year so that we are able to see an average composition of the music produced per year. From there we also want to see the median values that are present for each attribute of the dataset so that series is indicated as well. The last step in the cleaning process for this dataset included the df.describe step which provided a hollistic insight into the data for each attribute."
   ]
  },
  {
   "cell_type": "markdown",
   "metadata": {
    "id": "4r75_iYJn62E"
   },
   "source": [
    "# Cleaning Dataset 2"
   ]
  },
  {
   "cell_type": "code",
   "execution_count": 8,
   "metadata": {
    "colab": {
     "base_uri": "https://localhost:8080/",
     "height": 234
    },
    "id": "hXANTpxaqF_y",
    "outputId": "68f278ac-17bd-44ca-9939-06597f8aae84"
   },
   "outputs": [],
   "source": [
    "#Mason\n",
    "\n",
    "#Reads the separate datasets from 1950-2010\n",
    "dirty_1950 = pd.read_csv('1950.csv')\n",
    "dirty_1960 = pd.read_csv('1960.csv')\n",
    "dirty_1970 = pd.read_csv('1970.csv')\n",
    "dirty_1980 = pd.read_csv(\"1980.csv\")\n",
    "dirty_1990 = pd.read_csv(\"1990.csv\")\n",
    "dirty_2000 = pd.read_csv(\"2000.csv\")\n",
    "dirty_2010 = pd.read_csv(\"2010.csv\")\n",
    "\n",
    "#Inserts a Decade column into each of the datasets from 1950-2010\n",
    "dirty_1950.insert(4, \"decade\", 1950)\n",
    "dirty_1960.insert(4, \"decade\", 1960)\n",
    "dirty_1970.insert(4, \"decade\", 1970)\n",
    "dirty_1980.insert(4, \"decade\", 1980)\n",
    "dirty_1990.insert(4, \"decade\", 1990)\n",
    "dirty_2000.insert(4, \"decade\", 2000)\n",
    "dirty_2010.insert(4, \"decade\", 2010)\n",
    "\n",
    "#Combines the different decades datasets into one\n",
    "dirty_2 = pd.concat([dirty_1950, dirty_1960, dirty_1970, dirty_1980, dirty_1990,\n",
    "                  dirty_2000, dirty_2010])"
   ]
  },
  {
   "cell_type": "code",
   "execution_count": 9,
   "metadata": {
    "id": "uaWLhMJesLfm"
   },
   "outputs": [],
   "source": [
    "#Mason\n",
    "\n",
    "#Fills the null values in the top genre column and creates a clean copy of\n",
    "#the dataset.\n",
    "dirty_2['top genre'] = dirty_2[\"top genre\"].fillna('Unknown')\n",
    "dirty_2.isnull().any()\n",
    "clean_2 = dirty_2.copy()"
   ]
  },
  {
   "cell_type": "code",
   "execution_count": 10,
   "metadata": {
    "id": "fqOJR_GJs2tB"
   },
   "outputs": [],
   "source": [
    "#Mason \n",
    "\n",
    "#Makes the index and column names of the dataset nicer.\n",
    "clean_2.index = clean_2.index+ 1\n",
    "clean_2.columns = ['Number', 'Title', 'Artist', 'TopGenre', 'Decade', 'Year', \n",
    "                'Bpm', 'Energy', 'Danceability', 'Loudness', 'Liveness', 'Valence',\n",
    "                'Duration', 'Acousticness', 'Speechiness', 'Popularity']"
   ]
  },
  {
   "cell_type": "code",
   "execution_count": 11,
   "metadata": {
    "id": "LL2xwdCdtYfI"
   },
   "outputs": [
    {
     "data": {
      "text/html": [
       "<div>\n",
       "<style scoped>\n",
       "    .dataframe tbody tr th:only-of-type {\n",
       "        vertical-align: middle;\n",
       "    }\n",
       "\n",
       "    .dataframe tbody tr th {\n",
       "        vertical-align: top;\n",
       "    }\n",
       "\n",
       "    .dataframe thead th {\n",
       "        text-align: right;\n",
       "    }\n",
       "</style>\n",
       "<table border=\"1\" class=\"dataframe\">\n",
       "  <thead>\n",
       "    <tr style=\"text-align: right;\">\n",
       "      <th></th>\n",
       "      <th>Number</th>\n",
       "      <th>Title</th>\n",
       "      <th>Artist</th>\n",
       "      <th>TopGenre</th>\n",
       "      <th>Decade</th>\n",
       "      <th>Year</th>\n",
       "      <th>Bpm</th>\n",
       "      <th>Energy</th>\n",
       "      <th>Danceability</th>\n",
       "      <th>Loudness</th>\n",
       "      <th>Liveness</th>\n",
       "      <th>Valence</th>\n",
       "      <th>Duration</th>\n",
       "      <th>Acousticness</th>\n",
       "      <th>Speechiness</th>\n",
       "      <th>Popularity</th>\n",
       "    </tr>\n",
       "  </thead>\n",
       "  <tbody>\n",
       "    <tr>\n",
       "      <th>1</th>\n",
       "      <td>1</td>\n",
       "      <td>Put Your Head On My Shoulder</td>\n",
       "      <td>Paul Anka</td>\n",
       "      <td>adult standards</td>\n",
       "      <td>1950</td>\n",
       "      <td>2000</td>\n",
       "      <td>116</td>\n",
       "      <td>34</td>\n",
       "      <td>55</td>\n",
       "      <td>-9</td>\n",
       "      <td>10</td>\n",
       "      <td>47</td>\n",
       "      <td>155</td>\n",
       "      <td>75</td>\n",
       "      <td>3</td>\n",
       "      <td>72</td>\n",
       "    </tr>\n",
       "    <tr>\n",
       "      <th>2</th>\n",
       "      <td>2</td>\n",
       "      <td>Whatever Will Be Will Be (Que Sera Sera) (with...</td>\n",
       "      <td>Doris Day</td>\n",
       "      <td>adult standards</td>\n",
       "      <td>1950</td>\n",
       "      <td>1948</td>\n",
       "      <td>177</td>\n",
       "      <td>34</td>\n",
       "      <td>42</td>\n",
       "      <td>-11</td>\n",
       "      <td>72</td>\n",
       "      <td>78</td>\n",
       "      <td>123</td>\n",
       "      <td>86</td>\n",
       "      <td>4</td>\n",
       "      <td>62</td>\n",
       "    </tr>\n",
       "    <tr>\n",
       "      <th>3</th>\n",
       "      <td>3</td>\n",
       "      <td>Everybody Loves Somebody</td>\n",
       "      <td>Dean Martin</td>\n",
       "      <td>adult standards</td>\n",
       "      <td>1950</td>\n",
       "      <td>2013</td>\n",
       "      <td>81</td>\n",
       "      <td>49</td>\n",
       "      <td>26</td>\n",
       "      <td>-9</td>\n",
       "      <td>34</td>\n",
       "      <td>40</td>\n",
       "      <td>162</td>\n",
       "      <td>81</td>\n",
       "      <td>4</td>\n",
       "      <td>61</td>\n",
       "    </tr>\n",
       "    <tr>\n",
       "      <th>4</th>\n",
       "      <td>4</td>\n",
       "      <td>Take Good Care Of My Baby - 1990 Remastered</td>\n",
       "      <td>Bobby Vee</td>\n",
       "      <td>adult standards</td>\n",
       "      <td>1950</td>\n",
       "      <td>2011</td>\n",
       "      <td>82</td>\n",
       "      <td>43</td>\n",
       "      <td>49</td>\n",
       "      <td>-12</td>\n",
       "      <td>12</td>\n",
       "      <td>66</td>\n",
       "      <td>151</td>\n",
       "      <td>70</td>\n",
       "      <td>6</td>\n",
       "      <td>60</td>\n",
       "    </tr>\n",
       "    <tr>\n",
       "      <th>5</th>\n",
       "      <td>5</td>\n",
       "      <td>A Teenager In Love</td>\n",
       "      <td>Dion &amp; The Belmonts</td>\n",
       "      <td>adult standards</td>\n",
       "      <td>1950</td>\n",
       "      <td>1959</td>\n",
       "      <td>79</td>\n",
       "      <td>38</td>\n",
       "      <td>56</td>\n",
       "      <td>-9</td>\n",
       "      <td>13</td>\n",
       "      <td>62</td>\n",
       "      <td>158</td>\n",
       "      <td>67</td>\n",
       "      <td>3</td>\n",
       "      <td>60</td>\n",
       "    </tr>\n",
       "  </tbody>\n",
       "</table>\n",
       "</div>"
      ],
      "text/plain": [
       "   Number                                              Title  \\\n",
       "1       1                       Put Your Head On My Shoulder   \n",
       "2       2  Whatever Will Be Will Be (Que Sera Sera) (with...   \n",
       "3       3                           Everybody Loves Somebody   \n",
       "4       4        Take Good Care Of My Baby - 1990 Remastered   \n",
       "5       5                                 A Teenager In Love   \n",
       "\n",
       "                Artist         TopGenre  Decade  Year  Bpm  Energy  \\\n",
       "1            Paul Anka  adult standards    1950  2000  116      34   \n",
       "2            Doris Day  adult standards    1950  1948  177      34   \n",
       "3          Dean Martin  adult standards    1950  2013   81      49   \n",
       "4            Bobby Vee  adult standards    1950  2011   82      43   \n",
       "5  Dion & The Belmonts  adult standards    1950  1959   79      38   \n",
       "\n",
       "   Danceability  Loudness  Liveness  Valence  Duration  Acousticness  \\\n",
       "1            55        -9        10       47       155            75   \n",
       "2            42       -11        72       78       123            86   \n",
       "3            26        -9        34       40       162            81   \n",
       "4            49       -12        12       66       151            70   \n",
       "5            56        -9        13       62       158            67   \n",
       "\n",
       "   Speechiness  Popularity  \n",
       "1            3          72  \n",
       "2            4          62  \n",
       "3            4          61  \n",
       "4            6          60  \n",
       "5            3          60  "
      ]
     },
     "execution_count": 11,
     "metadata": {},
     "output_type": "execute_result"
    }
   ],
   "source": [
    "#Mason\n",
    "\n",
    "#Displays clean dataframe\n",
    "clean_2.head()"
   ]
  },
  {
   "cell_type": "code",
   "execution_count": 12,
   "metadata": {
    "id": "FZVX45XVtjh2"
   },
   "outputs": [
    {
     "data": {
      "text/html": [
       "<div>\n",
       "<style scoped>\n",
       "    .dataframe tbody tr th:only-of-type {\n",
       "        vertical-align: middle;\n",
       "    }\n",
       "\n",
       "    .dataframe tbody tr th {\n",
       "        vertical-align: top;\n",
       "    }\n",
       "\n",
       "    .dataframe thead th {\n",
       "        text-align: right;\n",
       "    }\n",
       "</style>\n",
       "<table border=\"1\" class=\"dataframe\">\n",
       "  <thead>\n",
       "    <tr style=\"text-align: right;\">\n",
       "      <th></th>\n",
       "      <th>Number</th>\n",
       "      <th>Decade</th>\n",
       "      <th>Year</th>\n",
       "      <th>Bpm</th>\n",
       "      <th>Energy</th>\n",
       "      <th>Danceability</th>\n",
       "      <th>Loudness</th>\n",
       "      <th>Liveness</th>\n",
       "      <th>Valence</th>\n",
       "      <th>Duration</th>\n",
       "      <th>Acousticness</th>\n",
       "      <th>Speechiness</th>\n",
       "      <th>Popularity</th>\n",
       "    </tr>\n",
       "  </thead>\n",
       "  <tbody>\n",
       "    <tr>\n",
       "      <th>count</th>\n",
       "      <td>667.000000</td>\n",
       "      <td>667.000000</td>\n",
       "      <td>667.000000</td>\n",
       "      <td>667.000000</td>\n",
       "      <td>667.000000</td>\n",
       "      <td>667.000000</td>\n",
       "      <td>667.000000</td>\n",
       "      <td>667.000000</td>\n",
       "      <td>667.000000</td>\n",
       "      <td>667.000000</td>\n",
       "      <td>667.000000</td>\n",
       "      <td>667.000000</td>\n",
       "      <td>667.000000</td>\n",
       "    </tr>\n",
       "    <tr>\n",
       "      <th>mean</th>\n",
       "      <td>48.718141</td>\n",
       "      <td>1981.064468</td>\n",
       "      <td>1994.967016</td>\n",
       "      <td>119.121439</td>\n",
       "      <td>61.394303</td>\n",
       "      <td>60.325337</td>\n",
       "      <td>-8.356822</td>\n",
       "      <td>18.188906</td>\n",
       "      <td>57.311844</td>\n",
       "      <td>224.002999</td>\n",
       "      <td>29.917541</td>\n",
       "      <td>6.179910</td>\n",
       "      <td>63.349325</td>\n",
       "    </tr>\n",
       "    <tr>\n",
       "      <th>std</th>\n",
       "      <td>28.414748</td>\n",
       "      <td>19.488359</td>\n",
       "      <td>17.771374</td>\n",
       "      <td>25.030827</td>\n",
       "      <td>21.703963</td>\n",
       "      <td>15.051583</td>\n",
       "      <td>3.659509</td>\n",
       "      <td>14.380929</td>\n",
       "      <td>24.400412</td>\n",
       "      <td>59.742591</td>\n",
       "      <td>28.865081</td>\n",
       "      <td>6.191199</td>\n",
       "      <td>13.725845</td>\n",
       "    </tr>\n",
       "    <tr>\n",
       "      <th>min</th>\n",
       "      <td>1.000000</td>\n",
       "      <td>1950.000000</td>\n",
       "      <td>1945.000000</td>\n",
       "      <td>62.000000</td>\n",
       "      <td>6.000000</td>\n",
       "      <td>18.000000</td>\n",
       "      <td>-24.000000</td>\n",
       "      <td>2.000000</td>\n",
       "      <td>6.000000</td>\n",
       "      <td>98.000000</td>\n",
       "      <td>0.000000</td>\n",
       "      <td>2.000000</td>\n",
       "      <td>26.000000</td>\n",
       "    </tr>\n",
       "    <tr>\n",
       "      <th>25%</th>\n",
       "      <td>24.000000</td>\n",
       "      <td>1960.000000</td>\n",
       "      <td>1980.000000</td>\n",
       "      <td>101.500000</td>\n",
       "      <td>45.000000</td>\n",
       "      <td>51.000000</td>\n",
       "      <td>-11.000000</td>\n",
       "      <td>9.000000</td>\n",
       "      <td>39.000000</td>\n",
       "      <td>185.000000</td>\n",
       "      <td>6.000000</td>\n",
       "      <td>3.000000</td>\n",
       "      <td>56.000000</td>\n",
       "    </tr>\n",
       "    <tr>\n",
       "      <th>50%</th>\n",
       "      <td>48.000000</td>\n",
       "      <td>1980.000000</td>\n",
       "      <td>1998.000000</td>\n",
       "      <td>120.000000</td>\n",
       "      <td>64.000000</td>\n",
       "      <td>62.000000</td>\n",
       "      <td>-8.000000</td>\n",
       "      <td>13.000000</td>\n",
       "      <td>58.000000</td>\n",
       "      <td>218.000000</td>\n",
       "      <td>19.000000</td>\n",
       "      <td>4.000000</td>\n",
       "      <td>66.000000</td>\n",
       "    </tr>\n",
       "    <tr>\n",
       "      <th>75%</th>\n",
       "      <td>72.000000</td>\n",
       "      <td>2000.000000</td>\n",
       "      <td>2010.000000</td>\n",
       "      <td>134.000000</td>\n",
       "      <td>79.000000</td>\n",
       "      <td>71.000000</td>\n",
       "      <td>-6.000000</td>\n",
       "      <td>24.000000</td>\n",
       "      <td>78.000000</td>\n",
       "      <td>254.000000</td>\n",
       "      <td>52.000000</td>\n",
       "      <td>6.000000</td>\n",
       "      <td>73.500000</td>\n",
       "    </tr>\n",
       "    <tr>\n",
       "      <th>max</th>\n",
       "      <td>105.000000</td>\n",
       "      <td>2010.000000</td>\n",
       "      <td>2019.000000</td>\n",
       "      <td>199.000000</td>\n",
       "      <td>100.000000</td>\n",
       "      <td>96.000000</td>\n",
       "      <td>-1.000000</td>\n",
       "      <td>93.000000</td>\n",
       "      <td>99.000000</td>\n",
       "      <td>511.000000</td>\n",
       "      <td>100.000000</td>\n",
       "      <td>47.000000</td>\n",
       "      <td>94.000000</td>\n",
       "    </tr>\n",
       "  </tbody>\n",
       "</table>\n",
       "</div>"
      ],
      "text/plain": [
       "           Number       Decade         Year         Bpm      Energy  \\\n",
       "count  667.000000   667.000000   667.000000  667.000000  667.000000   \n",
       "mean    48.718141  1981.064468  1994.967016  119.121439   61.394303   \n",
       "std     28.414748    19.488359    17.771374   25.030827   21.703963   \n",
       "min      1.000000  1950.000000  1945.000000   62.000000    6.000000   \n",
       "25%     24.000000  1960.000000  1980.000000  101.500000   45.000000   \n",
       "50%     48.000000  1980.000000  1998.000000  120.000000   64.000000   \n",
       "75%     72.000000  2000.000000  2010.000000  134.000000   79.000000   \n",
       "max    105.000000  2010.000000  2019.000000  199.000000  100.000000   \n",
       "\n",
       "       Danceability    Loudness    Liveness     Valence    Duration  \\\n",
       "count    667.000000  667.000000  667.000000  667.000000  667.000000   \n",
       "mean      60.325337   -8.356822   18.188906   57.311844  224.002999   \n",
       "std       15.051583    3.659509   14.380929   24.400412   59.742591   \n",
       "min       18.000000  -24.000000    2.000000    6.000000   98.000000   \n",
       "25%       51.000000  -11.000000    9.000000   39.000000  185.000000   \n",
       "50%       62.000000   -8.000000   13.000000   58.000000  218.000000   \n",
       "75%       71.000000   -6.000000   24.000000   78.000000  254.000000   \n",
       "max       96.000000   -1.000000   93.000000   99.000000  511.000000   \n",
       "\n",
       "       Acousticness  Speechiness  Popularity  \n",
       "count    667.000000   667.000000  667.000000  \n",
       "mean      29.917541     6.179910   63.349325  \n",
       "std       28.865081     6.191199   13.725845  \n",
       "min        0.000000     2.000000   26.000000  \n",
       "25%        6.000000     3.000000   56.000000  \n",
       "50%       19.000000     4.000000   66.000000  \n",
       "75%       52.000000     6.000000   73.500000  \n",
       "max      100.000000    47.000000   94.000000  "
      ]
     },
     "execution_count": 12,
     "metadata": {},
     "output_type": "execute_result"
    }
   ],
   "source": [
    "#Mason\n",
    "\n",
    "#Displays summary statistics for each variable in the dataset\n",
    "clean_2.describe()"
   ]
  },
  {
   "cell_type": "markdown",
   "metadata": {
    "id": "FaH1uUZ_w42Z"
   },
   "source": [
    "# Spotify Past Decades Song Attributes (Mason)\n",
    "Dataset 2 contains 7 datasets of popular Spotify songs from the 1950s-2010s. Originally, there was a dataset for each of those 7 datasets. After the data cleaning process, those datasets were merged into one. Similar to Dataset 3, each song has a set of characterisitcs, rated by their respective scales. \n",
    "\n",
    "First, we had to read each of the 7 dataset csv files and create pandas dataframes for each of them. In these particular datasets, however, there was an issue with the \"Year\" column data. In this column, some songs' release dates were listed as the rerelease data. For example, a song originally popular in the 1950s may have had a release date of 2012 due to rerelease. These rerelease dates may have misrepresented the time period the music originated in. \n",
    "\n",
    "As a result, we formed a \"Decade\" column, based on the original dataset decade the song was released in. We feel that this will help in the analysis process to better understand trends of song genres, popularity, and other characteristics over time.\n",
    "\n",
    "Next, we concatenated all 7 datasets into one larger dataset and began the imputation process. There were some null values in the \"Top Genre\" column that needed to be filled. To resolve this, we input the value \"Unknown\" into these null cells. \n",
    "\n",
    "Finally, we made the table look neater by matching the index values with the Number column. Additionally, we changed the column names to full words, rather than abbreviations, and capitalized the first letter of each name. This was done to make the table look more professional. The functions head() and describe() were used to see the final product of the cleaned table and the layout of the data in each variable. Dataset 2 is now cleaned and ready for thorough data analysis."
   ]
  },
  {
   "cell_type": "markdown",
   "metadata": {
    "id": "SGCtcMAWdPWT"
   },
   "source": [
    "# Cleaning Dataset 3:  "
   ]
  },
  {
   "cell_type": "code",
   "execution_count": 13,
   "metadata": {
    "colab": {
     "base_uri": "https://localhost:8080/",
     "height": 334
    },
    "id": "rFjaPiwWdARI",
    "outputId": "5925dcf6-c898-4b5a-92b0-a1dbdfca2f30"
   },
   "outputs": [],
   "source": [
    "#Jinit\n",
    "dataset3 = pd.read_csv(\"top10s.csv\")"
   ]
  },
  {
   "cell_type": "code",
   "execution_count": 14,
   "metadata": {
    "id": "jZskHQz3da2h"
   },
   "outputs": [],
   "source": [
    "#Jinit\n",
    "dataset3.drop(['Unnamed: 0'], axis = 1, inplace = True)\n",
    "dataset3.index = dataset3.index + 1\n",
    "dataset3.rename(columns ={'top genre': 'top_genre', 'nrgy' : 'energy', \n",
    "                   'dB' : 'loudness', 'live': 'liveliness', 'dur': 'duration', 'dnce': 'danceability','val': 'valence',\n",
    "                    'acous' : 'acoustic', 'spch' : 'speech', 'pop': 'popularity'}, inplace = True)\n",
    "dataset3.isnull().any()\n",
    "cleanDataset3 = dataset3.copy()"
   ]
  },
  {
   "cell_type": "code",
   "execution_count": 15,
   "metadata": {
    "colab": {
     "base_uri": "https://localhost:8080/",
     "height": 204
    },
    "id": "4nHBL9OOdeHI",
    "outputId": "7b493105-4ef5-43af-de72-87f6a9e39725"
   },
   "outputs": [
    {
     "data": {
      "text/html": [
       "<div>\n",
       "<style scoped>\n",
       "    .dataframe tbody tr th:only-of-type {\n",
       "        vertical-align: middle;\n",
       "    }\n",
       "\n",
       "    .dataframe tbody tr th {\n",
       "        vertical-align: top;\n",
       "    }\n",
       "\n",
       "    .dataframe thead th {\n",
       "        text-align: right;\n",
       "    }\n",
       "</style>\n",
       "<table border=\"1\" class=\"dataframe\">\n",
       "  <thead>\n",
       "    <tr style=\"text-align: right;\">\n",
       "      <th></th>\n",
       "      <th>year</th>\n",
       "      <th>bpm</th>\n",
       "      <th>energy</th>\n",
       "      <th>danceability</th>\n",
       "      <th>loudness</th>\n",
       "      <th>liveliness</th>\n",
       "      <th>valence</th>\n",
       "      <th>duration</th>\n",
       "      <th>acoustic</th>\n",
       "      <th>speech</th>\n",
       "      <th>popularity</th>\n",
       "    </tr>\n",
       "  </thead>\n",
       "  <tbody>\n",
       "    <tr>\n",
       "      <th>count</th>\n",
       "      <td>603.000000</td>\n",
       "      <td>603.000000</td>\n",
       "      <td>603.000000</td>\n",
       "      <td>603.000000</td>\n",
       "      <td>603.000000</td>\n",
       "      <td>603.000000</td>\n",
       "      <td>603.000000</td>\n",
       "      <td>603.000000</td>\n",
       "      <td>603.000000</td>\n",
       "      <td>603.000000</td>\n",
       "      <td>603.000000</td>\n",
       "    </tr>\n",
       "    <tr>\n",
       "      <th>mean</th>\n",
       "      <td>2014.592040</td>\n",
       "      <td>118.545605</td>\n",
       "      <td>70.504146</td>\n",
       "      <td>64.379768</td>\n",
       "      <td>-5.578773</td>\n",
       "      <td>17.774461</td>\n",
       "      <td>52.225539</td>\n",
       "      <td>224.674959</td>\n",
       "      <td>14.326700</td>\n",
       "      <td>8.358209</td>\n",
       "      <td>66.520730</td>\n",
       "    </tr>\n",
       "    <tr>\n",
       "      <th>std</th>\n",
       "      <td>2.607057</td>\n",
       "      <td>24.795358</td>\n",
       "      <td>16.310664</td>\n",
       "      <td>13.378718</td>\n",
       "      <td>2.798020</td>\n",
       "      <td>13.102543</td>\n",
       "      <td>22.513020</td>\n",
       "      <td>34.130059</td>\n",
       "      <td>20.766165</td>\n",
       "      <td>7.483162</td>\n",
       "      <td>14.517746</td>\n",
       "    </tr>\n",
       "    <tr>\n",
       "      <th>min</th>\n",
       "      <td>2010.000000</td>\n",
       "      <td>0.000000</td>\n",
       "      <td>0.000000</td>\n",
       "      <td>0.000000</td>\n",
       "      <td>-60.000000</td>\n",
       "      <td>0.000000</td>\n",
       "      <td>0.000000</td>\n",
       "      <td>134.000000</td>\n",
       "      <td>0.000000</td>\n",
       "      <td>0.000000</td>\n",
       "      <td>0.000000</td>\n",
       "    </tr>\n",
       "    <tr>\n",
       "      <th>25%</th>\n",
       "      <td>2013.000000</td>\n",
       "      <td>100.000000</td>\n",
       "      <td>61.000000</td>\n",
       "      <td>57.000000</td>\n",
       "      <td>-6.000000</td>\n",
       "      <td>9.000000</td>\n",
       "      <td>35.000000</td>\n",
       "      <td>202.000000</td>\n",
       "      <td>2.000000</td>\n",
       "      <td>4.000000</td>\n",
       "      <td>60.000000</td>\n",
       "    </tr>\n",
       "    <tr>\n",
       "      <th>50%</th>\n",
       "      <td>2015.000000</td>\n",
       "      <td>120.000000</td>\n",
       "      <td>74.000000</td>\n",
       "      <td>66.000000</td>\n",
       "      <td>-5.000000</td>\n",
       "      <td>12.000000</td>\n",
       "      <td>52.000000</td>\n",
       "      <td>221.000000</td>\n",
       "      <td>6.000000</td>\n",
       "      <td>5.000000</td>\n",
       "      <td>69.000000</td>\n",
       "    </tr>\n",
       "    <tr>\n",
       "      <th>75%</th>\n",
       "      <td>2017.000000</td>\n",
       "      <td>129.000000</td>\n",
       "      <td>82.000000</td>\n",
       "      <td>73.000000</td>\n",
       "      <td>-4.000000</td>\n",
       "      <td>24.000000</td>\n",
       "      <td>69.000000</td>\n",
       "      <td>239.500000</td>\n",
       "      <td>17.000000</td>\n",
       "      <td>9.000000</td>\n",
       "      <td>76.000000</td>\n",
       "    </tr>\n",
       "    <tr>\n",
       "      <th>max</th>\n",
       "      <td>2019.000000</td>\n",
       "      <td>206.000000</td>\n",
       "      <td>98.000000</td>\n",
       "      <td>97.000000</td>\n",
       "      <td>-2.000000</td>\n",
       "      <td>74.000000</td>\n",
       "      <td>98.000000</td>\n",
       "      <td>424.000000</td>\n",
       "      <td>99.000000</td>\n",
       "      <td>48.000000</td>\n",
       "      <td>99.000000</td>\n",
       "    </tr>\n",
       "  </tbody>\n",
       "</table>\n",
       "</div>"
      ],
      "text/plain": [
       "              year         bpm      energy  danceability    loudness  \\\n",
       "count   603.000000  603.000000  603.000000    603.000000  603.000000   \n",
       "mean   2014.592040  118.545605   70.504146     64.379768   -5.578773   \n",
       "std       2.607057   24.795358   16.310664     13.378718    2.798020   \n",
       "min    2010.000000    0.000000    0.000000      0.000000  -60.000000   \n",
       "25%    2013.000000  100.000000   61.000000     57.000000   -6.000000   \n",
       "50%    2015.000000  120.000000   74.000000     66.000000   -5.000000   \n",
       "75%    2017.000000  129.000000   82.000000     73.000000   -4.000000   \n",
       "max    2019.000000  206.000000   98.000000     97.000000   -2.000000   \n",
       "\n",
       "       liveliness     valence    duration    acoustic      speech  popularity  \n",
       "count  603.000000  603.000000  603.000000  603.000000  603.000000  603.000000  \n",
       "mean    17.774461   52.225539  224.674959   14.326700    8.358209   66.520730  \n",
       "std     13.102543   22.513020   34.130059   20.766165    7.483162   14.517746  \n",
       "min      0.000000    0.000000  134.000000    0.000000    0.000000    0.000000  \n",
       "25%      9.000000   35.000000  202.000000    2.000000    4.000000   60.000000  \n",
       "50%     12.000000   52.000000  221.000000    6.000000    5.000000   69.000000  \n",
       "75%     24.000000   69.000000  239.500000   17.000000    9.000000   76.000000  \n",
       "max     74.000000   98.000000  424.000000   99.000000   48.000000   99.000000  "
      ]
     },
     "execution_count": 15,
     "metadata": {},
     "output_type": "execute_result"
    }
   ],
   "source": [
    "#Jinit\n",
    "cleanDataset3.head()\n",
    "cleanDataset3.describe()"
   ]
  },
  {
   "cell_type": "markdown",
   "metadata": {
    "id": "Yg-AglABR1im"
   },
   "source": [
    "(Jinit)\n",
    "\n",
    "The 3rd data set contains a narrow list of songs as it is focused on year by year list of top songs from spotify rather than a decade overview. It has top songs from 2010 to 2019 and their respective characteristics like artists, beats per minute, popularity, danceability etc. To clean the data we first import the .csv file into pandas dataframe so we can easily mould it. \n",
    "\n",
    "Now, since there is an unnamed column, first we remove that from the dataset. Moreover, since the first row indexes at 0, we add 1 to all indexes so the frist song is at index 1 and not 0. Later, since abbreviations are used to name columns we change them to more understandable and less vague terms. Furthermore, we check whether it contains any null values so we don't have to worry about it messing up future observations and conclusions that we are going to make. \n",
    "\n",
    "Finally, we print the first 5 rows so that we can get a rough picture of how the dataset looks like. And, describe provides us an hollistic insight of the entire dataset and each of its attributes. Clean Dataset 3 is now ready to be used to answer further questions! \n"
   ]
  },
  {
   "cell_type": "markdown",
   "metadata": {
    "id": "Rwb8DPzuiwya"
   },
   "source": [
    "# Question 1\n",
    "How have characteristics of songs changed overtime?\n",
    "\n",
    "We will be looking at three specific characteristics: loudness, energy, and danceability because these three characteristics are what many people notice in a song when they first listen to songs."
   ]
  },
  {
   "cell_type": "code",
   "execution_count": 16,
   "metadata": {
    "id": "m5QiTQhSjrGO"
   },
   "outputs": [],
   "source": [
    "# Maleehah\n",
    "import matplotlib.pyplot as plt\n",
    "years = []        # array for the years from 1950 - 2020\n",
    "loudness = {}     # dictionary to keep track of the loudness of every year\n",
    "energy = {}       # dictionary to keep track of the energy of every year\n",
    "danceability = {} # dictionary to keep track of the danceability of every year\n",
    "\n",
    "# loop through and initialize the array and dictionaries\n",
    "for i in range(2021-1950):\n",
    "    # setting keys of the dictionaries\n",
    "    loudness[1950+i] = []   \n",
    "    energy[1950+i] = []   \n",
    "    danceability[1950+i] = []   \n",
    "    \n",
    "    years.append(1950+i)\n",
    "\n",
    "# loop through the dataset and store the loudess in their designated year\n",
    "[loudness[r[1]].append(r[0]) for r in zip(cleanSpotify.loudness, cleanSpotify.year) if r[1] >= 1950]\n",
    "loudnessaverages = [np.average(loudness[key]) for key in loudness] # take the average of every year\n",
    "\n",
    "# loop through the dataset and store the energy in their designated year\n",
    "[energy[r[1]].append(r[0]) for r in zip(cleanSpotify.energy, cleanSpotify.year) if r[1] >= 1950]\n",
    "energyaverages = [np.average(energy[key]) for key in energy] # take the average of every year\n",
    "\n",
    "# loop through the dataset and store the energy in their designated year\n",
    "[danceability[r[1]].append(r[0]) for r in zip(cleanSpotify.danceability, cleanSpotify.year) if r[1] >= 1950]\n",
    "danceabilityaverages = [np.average(danceability[key]) for key in danceability] # take the average of every year"
   ]
  },
  {
   "cell_type": "code",
   "execution_count": 17,
   "metadata": {
    "id": "KMbau1ZNyGis"
   },
   "outputs": [
    {
     "data": {
      "text/plain": [
       "Text(0.5, 1.0, 'Change in loudness of songs from 1950 - 2020')"
      ]
     },
     "execution_count": 17,
     "metadata": {},
     "output_type": "execute_result"
    },
    {
     "data": {
      "image/png": "[encoded data removed]",
      "text/plain": [
       "<Figure size 432x432 with 1 Axes>"
      ]
     },
     "metadata": {
      "needs_background": "light"
     },
     "output_type": "display_data"
    }
   ],
   "source": [
    "# Maleehah\n",
    "# plotting loudness\n",
    "plt.figure(figsize=(6,6))\n",
    "plt.plot(years, loudnessaverages)\n",
    "plt.xlabel(\"years\")\n",
    "plt.ylabel(\"loudness average\")\n",
    "plt.title(\"Change in loudness of songs from 1950 - 2020\")"
   ]
  },
  {
   "cell_type": "code",
   "execution_count": 18,
   "metadata": {
    "id": "3PVjaPabyGti"
   },
   "outputs": [
    {
     "data": {
      "text/plain": [
       "Text(0.5, 1.0, 'Change in energy of songs from 1950 - 2020')"
      ]
     },
     "execution_count": 18,
     "metadata": {},
     "output_type": "execute_result"
    },
    {
     "data": {
      "image/png": "[encoded data removed]",
      "text/plain": [
       "<Figure size 432x288 with 1 Axes>"
      ]
     },
     "metadata": {
      "needs_background": "light"
     },
     "output_type": "display_data"
    }
   ],
   "source": [
    "# Maleehah\n",
    "# plotting energy\n",
    "plt.plot(years, energyaverages)\n",
    "plt.xlabel(\"years\")\n",
    "plt.ylabel(\"energy average\")\n",
    "plt.title(\"Change in energy of songs from 1950 - 2020\")"
   ]
  },
  {
   "cell_type": "code",
   "execution_count": 19,
   "metadata": {
    "id": "A90Y0umYyG3E"
   },
   "outputs": [
    {
     "data": {
      "text/plain": [
       "Text(0.5, 1.0, 'Change in danceability of songs from 1950 - 2020')"
      ]
     },
     "execution_count": 19,
     "metadata": {},
     "output_type": "execute_result"
    },
    {
     "data": {
      "image/png": "[encoded data removed]",
      "text/plain": [
       "<Figure size 432x288 with 1 Axes>"
      ]
     },
     "metadata": {
      "needs_background": "light"
     },
     "output_type": "display_data"
    }
   ],
   "source": [
    "# Maleehah\n",
    "# danceability energy\n",
    "plt.plot(years, danceabilityaverages, label=\"danceability\")\n",
    "plt.xlabel(\"years\")\n",
    "plt.ylabel(\"danceability average\")\n",
    "plt.title(\"Change in danceability of songs from 1950 - 2020\")"
   ]
  },
  {
   "cell_type": "markdown",
   "metadata": {
    "id": "cFjAjGvqyNiT"
   },
   "source": [
    "The three graphs above show the evolution of loudness, energy, and danceability overtime. The average of each characteristic was taken from each year from 1950 - 2020. From the graphs, we can see that all three characteristics have increased significantly overtime. Since all of these characteristics have increased overtime somethings we can assume are:\n",
    "* more upbeat music is being created\n",
    "* people enjoy louder, energetic, and danceable music\n",
    "* many songs know will be louder, more energetic, and danceable"
   ]
  },
  {
   "cell_type": "code",
   "execution_count": 20,
   "metadata": {
    "id": "_dY5N4D9yTug"
   },
   "outputs": [],
   "source": [
    "# Maleehah\n",
    "years = []\n",
    "loudness = {}\n",
    "energy = {}\n",
    "danceability = {}\n",
    "\n",
    "for i in range(2020-2010):\n",
    "    loudness[2010+i] = []   \n",
    "    energy[2010+i] = []   \n",
    "    danceability[2010+i] = []   \n",
    "    \n",
    "    years.append(2010+i)\n",
    "\n",
    "[loudness[r[1]].append(r[0]) for r in zip(cleanDataset3.loudness, cleanDataset3.year)]\n",
    "loudnessaverages = [np.average(loudness[key]) for key in loudness]\n",
    "\n",
    "[energy[r[1]].append(r[0]) for r in zip(cleanDataset3.energy, cleanDataset3.year)]\n",
    "energyaverages = [np.average(energy[key]) for key in energy]\n",
    "\n",
    "[danceability[r[1]].append(r[0]) for r in zip(cleanDataset3.danceability, cleanDataset3.year)]\n",
    "danceabilityaverages = [np.average(danceability[key]) for key in danceability]"
   ]
  },
  {
   "cell_type": "code",
   "execution_count": 21,
   "metadata": {
    "id": "rho2M9SHyTzW"
   },
   "outputs": [
    {
     "data": {
      "text/plain": [
       "Text(0.5, 1.0, 'Change in loudness of songs from 1950 - 2020')"
      ]
     },
     "execution_count": 21,
     "metadata": {},
     "output_type": "execute_result"
    },
    {
     "data": {
      "image/png": "[encoded data removed]",
      "text/plain": [
       "<Figure size 432x432 with 1 Axes>"
      ]
     },
     "metadata": {
      "needs_background": "light"
     },
     "output_type": "display_data"
    }
   ],
   "source": [
    "# Maleehah\n",
    "# plotting loudness\n",
    "plt.figure(figsize=(6,6))\n",
    "plt.plot(years, loudnessaverages)\n",
    "plt.xlabel(\"years\")\n",
    "plt.ylabel(\"loudness average\")\n",
    "plt.title(\"Change in loudness of songs from 1950 - 2020\")"
   ]
  },
  {
   "cell_type": "code",
   "execution_count": 22,
   "metadata": {
    "id": "I6AOhhMkyT5f"
   },
   "outputs": [
    {
     "data": {
      "text/plain": [
       "Text(0.5, 1.0, 'Change in energy of songs from 1950 - 2020')"
      ]
     },
     "execution_count": 22,
     "metadata": {},
     "output_type": "execute_result"
    },
    {
     "data": {
      "image/png": "[encoded data removed]",
      "text/plain": [
       "<Figure size 432x288 with 1 Axes>"
      ]
     },
     "metadata": {
      "needs_background": "light"
     },
     "output_type": "display_data"
    }
   ],
   "source": [
    "# Maleehah\n",
    "# plotting energy\n",
    "plt.plot(years, energyaverages)\n",
    "plt.xlabel(\"years\")\n",
    "plt.ylabel(\"energy average\")\n",
    "plt.title(\"Change in energy of songs from 1950 - 2020\")"
   ]
  },
  {
   "cell_type": "code",
   "execution_count": 23,
   "metadata": {
    "id": "yeJMWwrkybr4"
   },
   "outputs": [
    {
     "data": {
      "text/plain": [
       "Text(0.5, 1.0, 'Change in danceability of songs from 1950 - 2020')"
      ]
     },
     "execution_count": 23,
     "metadata": {},
     "output_type": "execute_result"
    },
    {
     "data": {
      "image/png": "[encoded data removed]",
      "text/plain": [
       "<Figure size 432x288 with 1 Axes>"
      ]
     },
     "metadata": {
      "needs_background": "light"
     },
     "output_type": "display_data"
    }
   ],
   "source": [
    "# Maleehah\n",
    "# plotting danceability\n",
    "plt.plot(years, danceabilityaverages, label=\"danceability\")\n",
    "plt.xlabel(\"years\")\n",
    "plt.ylabel(\"danceability average\")\n",
    "plt.title(\"Change in danceability of songs from 1950 - 2020\")"
   ]
  },
  {
   "cell_type": "markdown",
   "metadata": {
    "id": "qH4dF3iAyb0s"
   },
   "source": [
    "Here is a closer look at the three characteristics ranging from 2010 to 2019. Loudness and energy started off high in 2010, but started to decrease around 2014. However, danceability continued to increase. This is interesting because if a song is danceable, then one would assume the song is energetic and loud. However, that does not seem to be the case because even if the loudness and energy has decreased, a song can still be more danceable compared to when the loudness and energy was higher."
   ]
  },
  {
   "cell_type": "markdown",
   "metadata": {
    "id": "_-meD4H2ixFu"
   },
   "source": [
    "# Question 2\n",
    "Which genre is popular during each decade?"
   ]
  },
  {
   "cell_type": "code",
   "execution_count": 24,
   "metadata": {
    "id": "UALJBZuTjrlw"
   },
   "outputs": [],
   "source": [
    "# Maleehah\n",
    "# initialize a list of the unique decades and unique genres\n",
    "years = list(clean_2.Decade.unique())\n",
    "genres = list(clean_2.TopGenre.unique())\n",
    "\n",
    "# initialize an empty dicitonary\n",
    "a_dict = {}\n",
    "\n",
    "# fill the dictionaries keys and values\n",
    "for i in range(len(years)):\n",
    "    a_dict[years[i]] = {}\n",
    "    for j in range(len(genres)):\n",
    "        a_dict[years[i]][genres[j]] = 0\n",
    "\n",
    "# loop through dataset and fill in dictionary\n",
    "for r in zip(clean_2.Decade, clean_2.TopGenre):\n",
    "    a_dict[r[0]][r[1]] = a_dict[r[0]][r[1]]+1 "
   ]
  },
  {
   "cell_type": "code",
   "execution_count": 25,
   "metadata": {
    "id": "zkEyy1AOyly2"
   },
   "outputs": [
    {
     "data": {
      "text/html": [
       "<div>\n",
       "<style scoped>\n",
       "    .dataframe tbody tr th:only-of-type {\n",
       "        vertical-align: middle;\n",
       "    }\n",
       "\n",
       "    .dataframe tbody tr th {\n",
       "        vertical-align: top;\n",
       "    }\n",
       "\n",
       "    .dataframe thead th {\n",
       "        text-align: right;\n",
       "    }\n",
       "</style>\n",
       "<table border=\"1\" class=\"dataframe\">\n",
       "  <thead>\n",
       "    <tr style=\"text-align: right;\">\n",
       "      <th></th>\n",
       "      <th>adult standards</th>\n",
       "      <th>brill building pop</th>\n",
       "      <th>doo-wop</th>\n",
       "      <th>deep adult standards</th>\n",
       "      <th>british comedy</th>\n",
       "      <th>Unknown</th>\n",
       "      <th>classic soul</th>\n",
       "      <th>louisiana blues</th>\n",
       "      <th>british dance band</th>\n",
       "      <th>merseybeat</th>\n",
       "      <th>...</th>\n",
       "      <th>electronic trap</th>\n",
       "      <th>electro house</th>\n",
       "      <th>alternative r&amp;b</th>\n",
       "      <th>complextro</th>\n",
       "      <th>edm</th>\n",
       "      <th>irish pop</th>\n",
       "      <th>indie poptimism</th>\n",
       "      <th>australian pop</th>\n",
       "      <th>aussietronica</th>\n",
       "      <th>years</th>\n",
       "    </tr>\n",
       "  </thead>\n",
       "  <tbody>\n",
       "    <tr>\n",
       "      <th>1950</th>\n",
       "      <td>33</td>\n",
       "      <td>9</td>\n",
       "      <td>4</td>\n",
       "      <td>7</td>\n",
       "      <td>1</td>\n",
       "      <td>12</td>\n",
       "      <td>1</td>\n",
       "      <td>1</td>\n",
       "      <td>1</td>\n",
       "      <td>2</td>\n",
       "      <td>...</td>\n",
       "      <td>0</td>\n",
       "      <td>0</td>\n",
       "      <td>0</td>\n",
       "      <td>0</td>\n",
       "      <td>0</td>\n",
       "      <td>0</td>\n",
       "      <td>0</td>\n",
       "      <td>0</td>\n",
       "      <td>0</td>\n",
       "      <td>1950</td>\n",
       "    </tr>\n",
       "    <tr>\n",
       "      <th>1960</th>\n",
       "      <td>27</td>\n",
       "      <td>11</td>\n",
       "      <td>0</td>\n",
       "      <td>0</td>\n",
       "      <td>0</td>\n",
       "      <td>0</td>\n",
       "      <td>1</td>\n",
       "      <td>0</td>\n",
       "      <td>0</td>\n",
       "      <td>0</td>\n",
       "      <td>...</td>\n",
       "      <td>0</td>\n",
       "      <td>0</td>\n",
       "      <td>0</td>\n",
       "      <td>0</td>\n",
       "      <td>0</td>\n",
       "      <td>0</td>\n",
       "      <td>0</td>\n",
       "      <td>0</td>\n",
       "      <td>0</td>\n",
       "      <td>1960</td>\n",
       "    </tr>\n",
       "    <tr>\n",
       "      <th>1970</th>\n",
       "      <td>19</td>\n",
       "      <td>0</td>\n",
       "      <td>0</td>\n",
       "      <td>0</td>\n",
       "      <td>0</td>\n",
       "      <td>0</td>\n",
       "      <td>3</td>\n",
       "      <td>0</td>\n",
       "      <td>0</td>\n",
       "      <td>0</td>\n",
       "      <td>...</td>\n",
       "      <td>0</td>\n",
       "      <td>0</td>\n",
       "      <td>0</td>\n",
       "      <td>0</td>\n",
       "      <td>0</td>\n",
       "      <td>0</td>\n",
       "      <td>0</td>\n",
       "      <td>0</td>\n",
       "      <td>0</td>\n",
       "      <td>1970</td>\n",
       "    </tr>\n",
       "    <tr>\n",
       "      <th>1980</th>\n",
       "      <td>13</td>\n",
       "      <td>0</td>\n",
       "      <td>0</td>\n",
       "      <td>0</td>\n",
       "      <td>0</td>\n",
       "      <td>1</td>\n",
       "      <td>0</td>\n",
       "      <td>0</td>\n",
       "      <td>0</td>\n",
       "      <td>0</td>\n",
       "      <td>...</td>\n",
       "      <td>0</td>\n",
       "      <td>0</td>\n",
       "      <td>0</td>\n",
       "      <td>0</td>\n",
       "      <td>0</td>\n",
       "      <td>0</td>\n",
       "      <td>0</td>\n",
       "      <td>0</td>\n",
       "      <td>0</td>\n",
       "      <td>1980</td>\n",
       "    </tr>\n",
       "    <tr>\n",
       "      <th>1990</th>\n",
       "      <td>1</td>\n",
       "      <td>0</td>\n",
       "      <td>0</td>\n",
       "      <td>0</td>\n",
       "      <td>0</td>\n",
       "      <td>3</td>\n",
       "      <td>0</td>\n",
       "      <td>0</td>\n",
       "      <td>0</td>\n",
       "      <td>0</td>\n",
       "      <td>...</td>\n",
       "      <td>0</td>\n",
       "      <td>0</td>\n",
       "      <td>0</td>\n",
       "      <td>0</td>\n",
       "      <td>0</td>\n",
       "      <td>0</td>\n",
       "      <td>0</td>\n",
       "      <td>0</td>\n",
       "      <td>0</td>\n",
       "      <td>1990</td>\n",
       "    </tr>\n",
       "    <tr>\n",
       "      <th>2000</th>\n",
       "      <td>0</td>\n",
       "      <td>0</td>\n",
       "      <td>0</td>\n",
       "      <td>0</td>\n",
       "      <td>0</td>\n",
       "      <td>0</td>\n",
       "      <td>0</td>\n",
       "      <td>0</td>\n",
       "      <td>0</td>\n",
       "      <td>0</td>\n",
       "      <td>...</td>\n",
       "      <td>0</td>\n",
       "      <td>0</td>\n",
       "      <td>0</td>\n",
       "      <td>0</td>\n",
       "      <td>0</td>\n",
       "      <td>0</td>\n",
       "      <td>0</td>\n",
       "      <td>0</td>\n",
       "      <td>0</td>\n",
       "      <td>2000</td>\n",
       "    </tr>\n",
       "    <tr>\n",
       "      <th>2010</th>\n",
       "      <td>0</td>\n",
       "      <td>0</td>\n",
       "      <td>0</td>\n",
       "      <td>0</td>\n",
       "      <td>0</td>\n",
       "      <td>0</td>\n",
       "      <td>0</td>\n",
       "      <td>0</td>\n",
       "      <td>0</td>\n",
       "      <td>0</td>\n",
       "      <td>...</td>\n",
       "      <td>1</td>\n",
       "      <td>2</td>\n",
       "      <td>1</td>\n",
       "      <td>1</td>\n",
       "      <td>1</td>\n",
       "      <td>1</td>\n",
       "      <td>1</td>\n",
       "      <td>1</td>\n",
       "      <td>1</td>\n",
       "      <td>2010</td>\n",
       "    </tr>\n",
       "  </tbody>\n",
       "</table>\n",
       "<p>7 rows × 117 columns</p>\n",
       "</div>"
      ],
      "text/plain": [
       "      adult standards  brill building pop  doo-wop  deep adult standards  \\\n",
       "1950               33                   9        4                     7   \n",
       "1960               27                  11        0                     0   \n",
       "1970               19                   0        0                     0   \n",
       "1980               13                   0        0                     0   \n",
       "1990                1                   0        0                     0   \n",
       "2000                0                   0        0                     0   \n",
       "2010                0                   0        0                     0   \n",
       "\n",
       "      british comedy  Unknown  classic soul  louisiana blues  \\\n",
       "1950               1       12             1                1   \n",
       "1960               0        0             1                0   \n",
       "1970               0        0             3                0   \n",
       "1980               0        1             0                0   \n",
       "1990               0        3             0                0   \n",
       "2000               0        0             0                0   \n",
       "2010               0        0             0                0   \n",
       "\n",
       "      british dance band  merseybeat  ...  electronic trap  electro house  \\\n",
       "1950                   1           2  ...                0              0   \n",
       "1960                   0           0  ...                0              0   \n",
       "1970                   0           0  ...                0              0   \n",
       "1980                   0           0  ...                0              0   \n",
       "1990                   0           0  ...                0              0   \n",
       "2000                   0           0  ...                0              0   \n",
       "2010                   0           0  ...                1              2   \n",
       "\n",
       "      alternative r&b  complextro  edm  irish pop  indie poptimism  \\\n",
       "1950                0           0    0          0                0   \n",
       "1960                0           0    0          0                0   \n",
       "1970                0           0    0          0                0   \n",
       "1980                0           0    0          0                0   \n",
       "1990                0           0    0          0                0   \n",
       "2000                0           0    0          0                0   \n",
       "2010                1           1    1          1                1   \n",
       "\n",
       "      australian pop  aussietronica  years  \n",
       "1950               0              0   1950  \n",
       "1960               0              0   1960  \n",
       "1970               0              0   1970  \n",
       "1980               0              0   1980  \n",
       "1990               0              0   1990  \n",
       "2000               0              0   2000  \n",
       "2010               1              1   2010  \n",
       "\n",
       "[7 rows x 117 columns]"
      ]
     },
     "execution_count": 25,
     "metadata": {},
     "output_type": "execute_result"
    }
   ],
   "source": [
    "# Maleehah Zafar\n",
    "# generate a dataframe of the genres of each decade\n",
    "genresdf = pd.DataFrame.from_dict(a_dict).T\n",
    "genresdf['years'] = years\n",
    "genresdf"
   ]
  },
  {
   "cell_type": "code",
   "execution_count": 26,
   "metadata": {
    "id": "ARfWshc-yl34"
   },
   "outputs": [
    {
     "data": {
      "image/png": "[encoded data removed]",
      "text/plain": [
       "<Figure size 720x720 with 1 Axes>"
      ]
     },
     "metadata": {
      "needs_background": "light"
     },
     "output_type": "display_data"
    }
   ],
   "source": [
    "# Maleehah\n",
    "# plot the genresdf as a stacked bar plot\n",
    "ax = genresdf.plot(x='years', kind='bar', stacked=True,\n",
    "        title='Stacked Bar Graph by dataframe', figsize=(10,10))\n",
    "\n",
    "# fix positioning of legend\n",
    "ax.legend(frameon=True, loc='upper right', ncol=3, bbox_to_anchor=(2, 1))\n",
    "\n",
    "# add labels to stacked bar chart\n",
    "pos = -1\n",
    "for i, bar in enumerate(ax.patches):\n",
    "    if i % len(genresdf.index) == 0:\n",
    "        pos += 1\n",
    "        \n",
    "    xloc = bar.get_x()                     \n",
    "    yloc = bar.get_y() + bar.get_height() / 2\n",
    "    if bar.get_height() > 5:\n",
    "        ax.annotate(str(genresdf.columns[pos]), xy = (xloc, yloc), va='center', ha='left')"
   ]
  },
  {
   "cell_type": "markdown",
   "metadata": {
    "id": "HoJlAEdqysmu"
   },
   "source": [
    "In this stacked bar chart, we can see what the most populare genres from each decade and they are:\n",
    "* 1950 - adult standards\n",
    "* 1960 - adult standards\n",
    "* 1970 - album rock\n",
    "* 1980 - album rock\n",
    "* 1990 - dance pop\n",
    "* 2000 - dance pop\n",
    "* 2010 - dance pop\n",
    "Also, it is very likely that new genres were created through the years as music evolved, but it seems the normal genres like album rock and dance pop continue to remain popular.\n",
    "\n",
    "Adult standards is aimed at older people, mainly over 50. So it seems that music in the 50s were aimed towards the older people. While the music now seems to be aimed more at younger people."
   ]
  },
  {
   "cell_type": "markdown",
   "metadata": {
    "id": "3QhN7IvbixUx"
   },
   "source": [
    "Question 3"
   ]
  },
  {
   "cell_type": "code",
   "execution_count": 29,
   "metadata": {
    "id": "eOMbd_8KjoeN"
   },
   "outputs": [
    {
     "ename": "NameError",
     "evalue": "name 'duration' is not defined",
     "output_type": "error",
     "traceback": [
      "\u001b[1;31m---------------------------------------------------------------------------\u001b[0m",
      "\u001b[1;31mNameError\u001b[0m                                 Traceback (most recent call last)",
      "\u001b[1;32m~\\AppData\\Local\\Temp/ipykernel_31104/424307974.py\u001b[0m in \u001b[0;36m<module>\u001b[1;34m\u001b[0m\n\u001b[0;32m      2\u001b[0m \u001b[0my_axis\u001b[0m \u001b[1;33m=\u001b[0m \u001b[0mavgTable\u001b[0m\u001b[1;33m.\u001b[0m\u001b[0mgroupby\u001b[0m\u001b[1;33m(\u001b[0m\u001b[1;34m'year'\u001b[0m\u001b[1;33m)\u001b[0m\u001b[1;33m.\u001b[0m\u001b[0mmean\u001b[0m\u001b[1;33m(\u001b[0m\u001b[1;33m)\u001b[0m\u001b[1;33m[\u001b[0m\u001b[1;34m'duration_ms'\u001b[0m\u001b[1;33m]\u001b[0m\u001b[1;33m.\u001b[0m\u001b[0mtolist\u001b[0m\u001b[1;33m(\u001b[0m\u001b[1;33m)\u001b[0m\u001b[1;33m\u001b[0m\u001b[1;33m\u001b[0m\u001b[0m\n\u001b[0;32m      3\u001b[0m \u001b[0mx_axis\u001b[0m \u001b[1;33m=\u001b[0m \u001b[1;33m[\u001b[0m\u001b[1;33m*\u001b[0m\u001b[0mrange\u001b[0m\u001b[1;33m(\u001b[0m\u001b[1;36m1921\u001b[0m\u001b[1;33m,\u001b[0m \u001b[1;36m2021\u001b[0m\u001b[1;33m,\u001b[0m \u001b[1;36m1\u001b[0m\u001b[1;33m)\u001b[0m\u001b[1;33m]\u001b[0m\u001b[1;33m\u001b[0m\u001b[1;33m\u001b[0m\u001b[0m\n\u001b[1;32m----> 4\u001b[1;33m \u001b[0mprint\u001b[0m\u001b[1;33m(\u001b[0m\u001b[0mduration\u001b[0m\u001b[1;33m)\u001b[0m\u001b[1;33m\u001b[0m\u001b[1;33m\u001b[0m\u001b[0m\n\u001b[0m\u001b[0;32m      5\u001b[0m \u001b[0mfig\u001b[0m \u001b[1;33m=\u001b[0m \u001b[0mplt\u001b[0m\u001b[1;33m.\u001b[0m\u001b[0mfigure\u001b[0m\u001b[1;33m(\u001b[0m\u001b[1;33m)\u001b[0m\u001b[1;33m\u001b[0m\u001b[1;33m\u001b[0m\u001b[0m\n\u001b[0;32m      6\u001b[0m \u001b[0max\u001b[0m \u001b[1;33m=\u001b[0m \u001b[0mplt\u001b[0m\u001b[1;33m.\u001b[0m\u001b[0mplot\u001b[0m\u001b[1;33m(\u001b[0m\u001b[0mx_axis\u001b[0m\u001b[1;33m,\u001b[0m \u001b[0my_axis\u001b[0m\u001b[1;33m)\u001b[0m\u001b[1;33m\u001b[0m\u001b[1;33m\u001b[0m\u001b[0m\n",
      "\u001b[1;31mNameError\u001b[0m: name 'duration' is not defined"
     ]
    }
   ],
   "source": [
    "#Gauraang\n",
    "y_axis = avgTable.groupby('year').mean()['duration_ms'].tolist()\n",
    "x_axis = [*range(1921, 2021, 1)]\n",
    "print(duration)\n",
    "fig = plt.figure()\n",
    "ax = plt.plot(x_axis, y_axis)"
   ]
  },
  {
   "cell_type": "markdown",
   "metadata": {
    "id": "E32KY5ZRxx_S"
   },
   "source": [
    "# Question 3: How has the average amount of top music heard changed over time?\n",
    "As seen in the graph, there has been a lot of variance in the average duration of the most popular music being played over the years. Generally speaking, the duration has increased from 1920 through 1950 from about 200,000 ms to 260,000 ms. After which it once again dropped to approximately 190,000 around 1970. After this drop, there is a big spike seen in the 1980 to more than 260,000 ms. After which it was steady for a bit till about 1995 and then there is a steady decline in the average duration through 2018 before a sudden drop down to 200,000 ms in 2020. \n"
   ]
  },
  {
   "cell_type": "markdown",
   "metadata": {
    "id": "t6HhNeyXjpU_"
   },
   "source": [
    "Question 4"
   ]
  },
  {
   "cell_type": "code",
   "execution_count": 30,
   "metadata": {
    "id": "CdF7oBuHjqUU"
   },
   "outputs": [
    {
     "data": {
      "image/png": "[encoded data removed]",
      "text/plain": [
       "<Figure size 432x288 with 1 Axes>"
      ]
     },
     "metadata": {
      "needs_background": "light"
     },
     "output_type": "display_data"
    }
   ],
   "source": [
    "#Gauraang\n",
    "cleanDataset3.artist.value_counts()\n",
    "katy = cleanDataset3[cleanDataset3.artist == \"Katy Perry\"]\n",
    "y_axis = katy['year'].value_counts().sort_index(ascending=True).tolist()\n",
    "x_axis = [2010, 2011, 2012, 2013, 2014, 2015, 2016, 2017]\n",
    "fig = plt.figure()\n",
    "ax = plt.bar(x_axis, y_axis)\n",
    "plt.title(\"Number of Katy Perry songs on Top Charts by Year\")\n",
    "plt.xlabel(\"Year\")\n",
    "plt.ylabel(\"Number of Songs\");"
   ]
  },
  {
   "cell_type": "code",
   "execution_count": 31,
   "metadata": {
    "colab": {
     "base_uri": "https://localhost:8080/",
     "height": 168
    },
    "id": "T7EjebiV7cPi",
    "outputId": "2c75ffb7-42ed-46a0-a39f-3e5287e1c7dd"
   },
   "outputs": [
    {
     "name": "stdout",
     "output_type": "stream",
     "text": [
      "                            title  year\n",
      "29                  Teenage Dream  2010\n",
      "30               California Gurls  2010\n",
      "78                           E.T.  2011\n",
      "102  Last Friday Night (T.G.I.F.)  2011\n",
      "103                      Firework  2011\n",
      "125                    Part Of Me  2012\n",
      "128                    Wide Awake  2012\n",
      "129         The One That Got Away  2012\n",
      "145                          Roar  2013\n",
      "217                    Dark Horse  2014\n",
      "238             This Is How We Do  2014\n",
      "243                      Birthday  2014\n",
      "358              Legendary Lovers  2015\n",
      "409                          Rise  2016\n",
      "469                   Swish Swish  2017\n",
      "470         Chained To The Rhythm  2017\n",
      "486                   Bon appétit  2017\n"
     ]
    }
   ],
   "source": [
    "print(katy[['title','year']])"
   ]
  },
  {
   "cell_type": "code",
   "execution_count": null,
   "metadata": {},
   "outputs": [],
   "source": []
  },
  {
   "cell_type": "markdown",
   "metadata": {
    "id": "7ybvgYyw7oIf"
   },
   "source": [
    "# Question 4: Visualizing the popularity of an artist over time.\n",
    "\n",
    "The artist chosen for this analysis was Katy Perry as she had the most amount of data available in dataset 3 with relevant information. To find out who has been on the top charts most often, I first used the value count function on the entire cleaned dataset. This showed me that Katy Perry was the highest in the list with 17 occurences followed by Justin Bieber at 16 occurences. As the graph shows, Katy Perry has had her songs on the top charts every year from 2010 through 2017. She has had three songs on the top charts for four years, 2011, 2012, 2014 and 2017. Her popularity from 2010-2012 can be explained by her latest release at the time, \"Teenage Dream\" which is possibly still one of the most famous albums ever and the only one to beat Michael Jackson's record of spawning five number one hits from a single album. Her hits in 2013 and 2014 were from her then latest album, Prism. This continued onto 2015 when she performed songs from this album at the Super Bowl and broke the record for the most watched halftime show of all time. Her final uprising in 2017 was due to the album Witness. Katy Perry lost a lot of fan following because of her political activism during the 2016 Presidential Elections which could be the reason none of her new songs are on the top charts. \n"
   ]
  },
  {
   "cell_type": "markdown",
   "metadata": {
    "id": "2wl9KYhMjspF"
   },
   "source": [
    "Procedural Changes - major changes made from part 1"
   ]
  },
  {
   "cell_type": "markdown",
   "metadata": {
    "id": "ueR8StxxkEAq"
   },
   "source": [
    "Credit Listing (what each team member did)"
   ]
  },
  {
   "cell_type": "markdown",
   "metadata": {},
   "source": [
    "Question #4 (Second Iteration)"
   ]
  },
  {
   "cell_type": "code",
   "execution_count": 32,
   "metadata": {},
   "outputs": [
    {
     "data": {
      "text/html": [
       "<div>\n",
       "<style scoped>\n",
       "    .dataframe tbody tr th:only-of-type {\n",
       "        vertical-align: middle;\n",
       "    }\n",
       "\n",
       "    .dataframe tbody tr th {\n",
       "        vertical-align: top;\n",
       "    }\n",
       "\n",
       "    .dataframe thead th {\n",
       "        text-align: right;\n",
       "    }\n",
       "</style>\n",
       "<table border=\"1\" class=\"dataframe\">\n",
       "  <thead>\n",
       "    <tr style=\"text-align: right;\">\n",
       "      <th></th>\n",
       "      <th>title</th>\n",
       "      <th>artist</th>\n",
       "      <th>top_genre</th>\n",
       "      <th>year</th>\n",
       "      <th>bpm</th>\n",
       "      <th>energy</th>\n",
       "      <th>danceability</th>\n",
       "      <th>loudness</th>\n",
       "      <th>liveliness</th>\n",
       "      <th>valence</th>\n",
       "      <th>duration</th>\n",
       "      <th>acoustic</th>\n",
       "      <th>speech</th>\n",
       "      <th>popularity</th>\n",
       "    </tr>\n",
       "  </thead>\n",
       "  <tbody>\n",
       "    <tr>\n",
       "      <th>1</th>\n",
       "      <td>Hey, Soul Sister</td>\n",
       "      <td>Train</td>\n",
       "      <td>neo mellow</td>\n",
       "      <td>2010</td>\n",
       "      <td>97</td>\n",
       "      <td>89</td>\n",
       "      <td>67</td>\n",
       "      <td>-4</td>\n",
       "      <td>8</td>\n",
       "      <td>80</td>\n",
       "      <td>217</td>\n",
       "      <td>19</td>\n",
       "      <td>4</td>\n",
       "      <td>83</td>\n",
       "    </tr>\n",
       "    <tr>\n",
       "      <th>2</th>\n",
       "      <td>Love The Way You Lie</td>\n",
       "      <td>Eminem</td>\n",
       "      <td>detroit hip hop</td>\n",
       "      <td>2010</td>\n",
       "      <td>87</td>\n",
       "      <td>93</td>\n",
       "      <td>75</td>\n",
       "      <td>-5</td>\n",
       "      <td>52</td>\n",
       "      <td>64</td>\n",
       "      <td>263</td>\n",
       "      <td>24</td>\n",
       "      <td>23</td>\n",
       "      <td>82</td>\n",
       "    </tr>\n",
       "    <tr>\n",
       "      <th>3</th>\n",
       "      <td>TiK ToK</td>\n",
       "      <td>Kesha</td>\n",
       "      <td>dance pop</td>\n",
       "      <td>2010</td>\n",
       "      <td>120</td>\n",
       "      <td>84</td>\n",
       "      <td>76</td>\n",
       "      <td>-3</td>\n",
       "      <td>29</td>\n",
       "      <td>71</td>\n",
       "      <td>200</td>\n",
       "      <td>10</td>\n",
       "      <td>14</td>\n",
       "      <td>80</td>\n",
       "    </tr>\n",
       "    <tr>\n",
       "      <th>4</th>\n",
       "      <td>Bad Romance</td>\n",
       "      <td>Lady Gaga</td>\n",
       "      <td>dance pop</td>\n",
       "      <td>2010</td>\n",
       "      <td>119</td>\n",
       "      <td>92</td>\n",
       "      <td>70</td>\n",
       "      <td>-4</td>\n",
       "      <td>8</td>\n",
       "      <td>71</td>\n",
       "      <td>295</td>\n",
       "      <td>0</td>\n",
       "      <td>4</td>\n",
       "      <td>79</td>\n",
       "    </tr>\n",
       "    <tr>\n",
       "      <th>5</th>\n",
       "      <td>Just the Way You Are</td>\n",
       "      <td>Bruno Mars</td>\n",
       "      <td>pop</td>\n",
       "      <td>2010</td>\n",
       "      <td>109</td>\n",
       "      <td>84</td>\n",
       "      <td>64</td>\n",
       "      <td>-5</td>\n",
       "      <td>9</td>\n",
       "      <td>43</td>\n",
       "      <td>221</td>\n",
       "      <td>2</td>\n",
       "      <td>4</td>\n",
       "      <td>78</td>\n",
       "    </tr>\n",
       "    <tr>\n",
       "      <th>...</th>\n",
       "      <td>...</td>\n",
       "      <td>...</td>\n",
       "      <td>...</td>\n",
       "      <td>...</td>\n",
       "      <td>...</td>\n",
       "      <td>...</td>\n",
       "      <td>...</td>\n",
       "      <td>...</td>\n",
       "      <td>...</td>\n",
       "      <td>...</td>\n",
       "      <td>...</td>\n",
       "      <td>...</td>\n",
       "      <td>...</td>\n",
       "      <td>...</td>\n",
       "    </tr>\n",
       "    <tr>\n",
       "      <th>599</th>\n",
       "      <td>Find U Again (feat. Camila Cabello)</td>\n",
       "      <td>Mark Ronson</td>\n",
       "      <td>dance pop</td>\n",
       "      <td>2019</td>\n",
       "      <td>104</td>\n",
       "      <td>66</td>\n",
       "      <td>61</td>\n",
       "      <td>-7</td>\n",
       "      <td>20</td>\n",
       "      <td>16</td>\n",
       "      <td>176</td>\n",
       "      <td>1</td>\n",
       "      <td>3</td>\n",
       "      <td>75</td>\n",
       "    </tr>\n",
       "    <tr>\n",
       "      <th>600</th>\n",
       "      <td>Cross Me (feat. Chance the Rapper &amp; PnB Rock)</td>\n",
       "      <td>Ed Sheeran</td>\n",
       "      <td>pop</td>\n",
       "      <td>2019</td>\n",
       "      <td>95</td>\n",
       "      <td>79</td>\n",
       "      <td>75</td>\n",
       "      <td>-6</td>\n",
       "      <td>7</td>\n",
       "      <td>61</td>\n",
       "      <td>206</td>\n",
       "      <td>21</td>\n",
       "      <td>12</td>\n",
       "      <td>75</td>\n",
       "    </tr>\n",
       "    <tr>\n",
       "      <th>601</th>\n",
       "      <td>No Brainer (feat. Justin Bieber, Chance the Ra...</td>\n",
       "      <td>DJ Khaled</td>\n",
       "      <td>dance pop</td>\n",
       "      <td>2019</td>\n",
       "      <td>136</td>\n",
       "      <td>76</td>\n",
       "      <td>53</td>\n",
       "      <td>-5</td>\n",
       "      <td>9</td>\n",
       "      <td>65</td>\n",
       "      <td>260</td>\n",
       "      <td>7</td>\n",
       "      <td>34</td>\n",
       "      <td>70</td>\n",
       "    </tr>\n",
       "    <tr>\n",
       "      <th>602</th>\n",
       "      <td>Nothing Breaks Like a Heart (feat. Miley Cyrus)</td>\n",
       "      <td>Mark Ronson</td>\n",
       "      <td>dance pop</td>\n",
       "      <td>2019</td>\n",
       "      <td>114</td>\n",
       "      <td>79</td>\n",
       "      <td>60</td>\n",
       "      <td>-6</td>\n",
       "      <td>42</td>\n",
       "      <td>24</td>\n",
       "      <td>217</td>\n",
       "      <td>1</td>\n",
       "      <td>7</td>\n",
       "      <td>69</td>\n",
       "    </tr>\n",
       "    <tr>\n",
       "      <th>603</th>\n",
       "      <td>Kills You Slowly</td>\n",
       "      <td>The Chainsmokers</td>\n",
       "      <td>electropop</td>\n",
       "      <td>2019</td>\n",
       "      <td>150</td>\n",
       "      <td>44</td>\n",
       "      <td>70</td>\n",
       "      <td>-9</td>\n",
       "      <td>13</td>\n",
       "      <td>23</td>\n",
       "      <td>213</td>\n",
       "      <td>6</td>\n",
       "      <td>6</td>\n",
       "      <td>67</td>\n",
       "    </tr>\n",
       "  </tbody>\n",
       "</table>\n",
       "<p>603 rows × 14 columns</p>\n",
       "</div>"
      ],
      "text/plain": [
       "                                                 title            artist  \\\n",
       "1                                     Hey, Soul Sister             Train   \n",
       "2                                 Love The Way You Lie            Eminem   \n",
       "3                                              TiK ToK             Kesha   \n",
       "4                                          Bad Romance         Lady Gaga   \n",
       "5                                 Just the Way You Are        Bruno Mars   \n",
       "..                                                 ...               ...   \n",
       "599                Find U Again (feat. Camila Cabello)       Mark Ronson   \n",
       "600      Cross Me (feat. Chance the Rapper & PnB Rock)        Ed Sheeran   \n",
       "601  No Brainer (feat. Justin Bieber, Chance the Ra...         DJ Khaled   \n",
       "602    Nothing Breaks Like a Heart (feat. Miley Cyrus)       Mark Ronson   \n",
       "603                                   Kills You Slowly  The Chainsmokers   \n",
       "\n",
       "           top_genre  year  bpm  energy  danceability  loudness  liveliness  \\\n",
       "1         neo mellow  2010   97      89            67        -4           8   \n",
       "2    detroit hip hop  2010   87      93            75        -5          52   \n",
       "3          dance pop  2010  120      84            76        -3          29   \n",
       "4          dance pop  2010  119      92            70        -4           8   \n",
       "5                pop  2010  109      84            64        -5           9   \n",
       "..               ...   ...  ...     ...           ...       ...         ...   \n",
       "599        dance pop  2019  104      66            61        -7          20   \n",
       "600              pop  2019   95      79            75        -6           7   \n",
       "601        dance pop  2019  136      76            53        -5           9   \n",
       "602        dance pop  2019  114      79            60        -6          42   \n",
       "603       electropop  2019  150      44            70        -9          13   \n",
       "\n",
       "     valence  duration  acoustic  speech  popularity  \n",
       "1         80       217        19       4          83  \n",
       "2         64       263        24      23          82  \n",
       "3         71       200        10      14          80  \n",
       "4         71       295         0       4          79  \n",
       "5         43       221         2       4          78  \n",
       "..       ...       ...       ...     ...         ...  \n",
       "599       16       176         1       3          75  \n",
       "600       61       206        21      12          75  \n",
       "601       65       260         7      34          70  \n",
       "602       24       217         1       7          69  \n",
       "603       23       213         6       6          67  \n",
       "\n",
       "[603 rows x 14 columns]"
      ]
     },
     "execution_count": 32,
     "metadata": {},
     "output_type": "execute_result"
    }
   ],
   "source": [
    "cleanDataset3"
   ]
  },
  {
   "cell_type": "code",
   "execution_count": 52,
   "metadata": {},
   "outputs": [
    {
     "data": {
      "text/plain": [
       "([<matplotlib.axis.XTick at 0x25e3e319a30>,\n",
       "  <matplotlib.axis.XTick at 0x25e3e319100>,\n",
       "  <matplotlib.axis.XTick at 0x25e3e3af670>,\n",
       "  <matplotlib.axis.XTick at 0x25e3e44a400>,\n",
       "  <matplotlib.axis.XTick at 0x25e3e44ab50>,\n",
       "  <matplotlib.axis.XTick at 0x25e3e44a340>,\n",
       "  <matplotlib.axis.XTick at 0x25e3e452490>,\n",
       "  <matplotlib.axis.XTick at 0x25e3e452be0>,\n",
       "  <matplotlib.axis.XTick at 0x25e3e458370>,\n",
       "  <matplotlib.axis.XTick at 0x25e3e458ac0>],\n",
       " [Text(0, 0, 'year'),\n",
       "  Text(1, 0, 'bpm'),\n",
       "  Text(2, 0, 'energy'),\n",
       "  Text(3, 0, 'dance'),\n",
       "  Text(4, 0, 'loud'),\n",
       "  Text(5, 0, 'liveli'),\n",
       "  Text(6, 0, 'valence'),\n",
       "  Text(7, 0, 'duration'),\n",
       "  Text(8, 0, 'acous'),\n",
       "  Text(9, 0, 'speech')])"
      ]
     },
     "execution_count": 52,
     "metadata": {},
     "output_type": "execute_result"
    },
    {
     "data": {
      "image/png": "[encoded data removed]",
      "text/plain": [
       "<Figure size 432x288 with 1 Axes>"
      ]
     },
     "metadata": {
      "needs_background": "light"
     },
     "output_type": "display_data"
    }
   ],
   "source": [
    "relation = cleanDataset3.copy()\n",
    "\n",
    "\n",
    "cols = ['year','bpm','energy','danceability','loudness','liveliness','valence','duration','acoustic','speech']\n",
    "labels = ['year','bpm','energy','dance','loud','liveli','valence','duration','acous','speech']\n",
    "pearson = []\n",
    "spearman = []\n",
    "kendall = []\n",
    "\n",
    "for i in cols:\n",
    "    Y = relation[i]\n",
    "    \n",
    "    pearson.append(relation['popularity'].corr(Y))\n",
    "    spearman.append(relation['popularity'].corr(Y, method='spearman'))\n",
    "    kendall.append(relation['popularity'].corr(Y, method='kendall'))\n",
    "    \n",
    "import numpy as np\n",
    "import matplotlib.pyplot as plt\n",
    "\n",
    "x_values = np.arange(10)\n",
    "barPlot = plt.figure()\n",
    "plot = barPlot.add_axes([0,0,1,1])\n",
    "\n",
    "p_bar = plot.bar(x_values - 0.1, pearson, color = 'r', width = 0.1)\n",
    "s_bar = plot.bar(x_values, spearman, color = 'g', width = 0.1)\n",
    "k_bar = plot.bar(x_values + 0.1, kendall, color = 'b', width = 0.1)\n",
    "\n",
    "plt.xlabel(\"Features\")\n",
    "plt.ylabel(\"Correlation w/ Popularity\")\n",
    "plt.title(\"Correlation Between Features and Popularity\")\n",
    "plt.legend([p_bar,s_bar,k_bar], ['Pearson', 'Spearman', 'Kendall'])\n",
    "plt.xticks(x_values, labels)    "
   ]
  },
  {
   "cell_type": "code",
   "execution_count": 53,
   "metadata": {},
   "outputs": [
    {
     "data": {
      "text/plain": [
       "<matplotlib.collections.PathCollection at 0x25e3e4a0fd0>"
      ]
     },
     "execution_count": 53,
     "metadata": {},
     "output_type": "execute_result"
    },
    {
     "data": {
      "image/png": "[encoded data removed]",
      "text/plain": [
       "<Figure size 432x288 with 1 Axes>"
      ]
     },
     "metadata": {
      "needs_background": "light"
     },
     "output_type": "display_data"
    }
   ],
   "source": [
    "dancePlot = plt.figure()\n",
    "plt.scatter(relation['popularity'],relation['danceability'], c = 'red')"
   ]
  },
  {
   "cell_type": "code",
   "execution_count": 56,
   "metadata": {},
   "outputs": [
    {
     "data": {
      "text/plain": [
       "<matplotlib.collections.PathCollection at 0x25e3e6be850>"
      ]
     },
     "execution_count": 56,
     "metadata": {},
     "output_type": "execute_result"
    },
    {
     "data": {
      "image/png": "[encoded data removed]",
      "text/plain": [
       "<Figure size 432x288 with 1 Axes>"
      ]
     },
     "metadata": {
      "needs_background": "light"
     },
     "output_type": "display_data"
    }
   ],
   "source": []
  },
  {
   "cell_type": "code",
   "execution_count": 57,
   "metadata": {},
   "outputs": [
    {
     "data": {
      "text/plain": [
       "<matplotlib.collections.PathCollection at 0x25e3e05c5b0>"
      ]
     },
     "execution_count": 57,
     "metadata": {},
     "output_type": "execute_result"
    },
    {
     "data": {
      "image/png": "[encoded data removed]",
      "text/plain": [
       "<Figure size 432x288 with 1 Axes>"
      ]
     },
     "metadata": {
      "needs_background": "light"
     },
     "output_type": "display_data"
    }
   ],
   "source": []
  },
  {
   "cell_type": "code",
   "execution_count": null,
   "metadata": {},
   "outputs": [],
   "source": []
  }
 ],
 "metadata": {
  "colab": {
   "collapsed_sections": [
    "rQH-jPFnVhSn",
    "FaH1uUZ_w42Z"
   ],
   "name": "Project3.ipynb",
   "provenance": []
  },
  "kernelspec": {
   "display_name": "Python 3 (ipykernel)",
   "language": "python",
   "name": "python3"
  },
  "language_info": {
   "codemirror_mode": {
    "name": "ipython",
    "version": 3
   },
   "file_extension": ".py",
   "mimetype": "text/x-python",
   "name": "python",
   "nbconvert_exporter": "python",
   "pygments_lexer": "ipython3",
   "version": "3.9.7"
  }
 },
 "nbformat": 4,
 "nbformat_minor": 1
}
